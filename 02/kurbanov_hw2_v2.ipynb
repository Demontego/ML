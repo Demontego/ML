{
 "cells": [
  {
   "cell_type": "markdown",
   "metadata": {},
   "source": [
    "# Алгоритмы интеллектуальной обработки больших объемов данных\n",
    "## Домашнее задание №3: Линейные модели\n"
   ]
  },
  {
   "cell_type": "markdown",
   "metadata": {},
   "source": [
    "###### <hr\\>\n",
    "**Общая информация**\n",
    "\n",
    "**Срок сдачи:** 8 апреля 2019, 06:00 <br\\>\n",
    "**Штраф за опоздание:** -2 балла после 06:00 8 апреля, -4 балла после 06:00 15 апреля, -6 баллов после 06:00 22 апреля  -8 баллов после 06:00 29 апреля.\n",
    "\n",
    "При отправлении ДЗ указывайте фамилию в названии файла<br\\>\n",
    "\n",
    "Используйте данный Ipython Notebook при оформлении домашнего задания.\n",
    "\n",
    "**Штрафные баллы:**\n",
    "\n",
    "1. Невыполнение PEP8 -1 балл\n",
    "2. Отсутствие фамилии в имени скрипта (скрипт должен называться по аналогии со stroykova_hw2.ipynb) -1 балл\n",
    "3. Все строчки должны быть выполнены. Нужно, чтобы output команды можно было увидеть уже в git'е. В противном случае -1 балл\n",
    "4. При оформлении ДЗ нужно пользоваться данным файлом в качестве шаблона. Не нужно удалять и видоизменять написанный код и текст, если явно не указана такая возможность. В противном случае -1 балл\n",
    "<hr\\>"
   ]
  },
  {
   "cell_type": "code",
   "execution_count": 34,
   "metadata": {},
   "outputs": [],
   "source": [
    "import pandas as pd\n",
    "import numpy as np\n",
    "import matplotlib.pyplot as plt\n",
    "\n",
    "%matplotlib inline\n",
    "\n",
    "plt.style.use('ggplot')\n",
    "plt.rcParams['figure.figsize'] = (12,5)"
   ]
  },
  {
   "cell_type": "markdown",
   "metadata": {},
   "source": [
    "Здравствуйте, уважаемые студенты! \n",
    "\n",
    "В этом задании мы будем реализовать линейные модели. Необходимо реализовать линейную и логистическую регрессии с L2 регуляризацией"
   ]
  },
  {
   "cell_type": "markdown",
   "metadata": {},
   "source": [
    "# Теоретическое введение\n",
    "\n"
   ]
  },
  {
   "cell_type": "markdown",
   "metadata": {},
   "source": [
    "*** Что почитать по теории ***\n",
    "\n",
    "Одна из лучших книг по ML $-$ \"Pattern Recognition and Machine Learning\" Bishop, Christopher. "
   ]
  },
  {
   "cell_type": "markdown",
   "metadata": {},
   "source": [
    "Линейная регрессия решает задачу регрессии и оптимизирует функцию потерь MSE \n",
    "\n",
    "$$L(w) =  \\frac{1}{N}\\left[\\sum_i (y_i - a_i) ^ 2 \\right], $$ где $y_i$ $-$ целевая функция,  $a_i = a(x_i) =  \\langle\\,x_i,w\\rangle ,$ $-$ предсказание алгоритма на объекте $x_i$, $w$ $-$ вектор весов (размерности $D$), $x_i$ $-$ вектор признаков (такой же размерности $D$).\n"
   ]
  },
  {
   "cell_type": "markdown",
   "metadata": {},
   "source": [
    "Логистическая регрессия является линейным классификатором, который оптимизирует так называемый функционал log loss:"
   ]
  },
  {
   "cell_type": "markdown",
   "metadata": {},
   "source": [
    "$$L(w) = - \\frac{1}{N}\\left[\\sum_i y_i \\log a_i + ( 1 - y_i) \\log (1 - a_i) \\right],$$\n",
    "где  $y_i  \\in \\{0,1\\}$ $-$ метка класса, $a_i$ $-$ предсказание алгоритма на объекте $x_i$. Модель пытается предсказать апостериорую вероятность объекта принадлежать к классу \"1\":\n",
    "$$ p(y_i = 1 | x_i) = a(x_i) =  \\sigma( \\langle\\,x_i,w\\rangle ),$$\n",
    "$w$ $-$ вектор весов (размерности $D$), $x_i$ $-$ вектор признаков (такой же размерности $D$).\n",
    "\n",
    "Функция $\\sigma(x)$ $-$ нелинейная функция, пероводящее скалярное произведение объекта на веса в число $\\in (0,1)$ (мы же моделируем вероятность все-таки!)\n",
    "\n",
    "$$\\sigma(x) = \\frac{1}{1 + \\exp(-x)}$$\n",
    "\n",
    "Если внимательно посмотреть на функцию потерь, то можно заметить, что в зависимости от правильного ответа алгоритм штрафуется или функцией $-\\log a_i$, или функцией $-\\log (1 - a_i)$.\n",
    "\n"
   ]
  },
  {
   "cell_type": "markdown",
   "metadata": {},
   "source": [
    "Часто для решения проблем, которые так или иначе связаны с проблемой переобучения, в функционал качества добавляют слагаемое, которое называют ***регуляризацией***. Итоговый функционал для линейной регрессии тогда принимает вид:\n",
    "\n",
    "$$L(w) =  \\frac{1}{N}\\left[\\sum_i (y_i - a_i) ^ 2 \\right] + \\frac{1}{C}R(w) $$\n",
    "\n",
    "Для логистической: \n",
    "$$L(w) = - \\frac{1}{N}\\left[\\sum_i y_i \\log a_i + ( 1 - y_i) \\log (1 - a_i) \\right] +  \\frac{1}{C}R(w)$$\n",
    "\n",
    "Самое понятие регуляризации введено основателем ВМК академиком Тихоновым https://ru.wikipedia.org/wiki/Метод_регуляризации_Тихонова\n",
    "\n",
    "Идейно методика регуляризации заключается в следующем $-$ мы рассматриваем некорректно поставленную задачу (что это такое можно найти в интернете), для того чтобы сузить набор различных вариантов (лучшие из которых будут являться переобучением ) мы вводим дополнительные ограничения на множество искомых решений. На лекции Вы уже рассмотрели два варианта регуляризации.\n",
    "\n",
    "$L1$ регуляризация:\n",
    "$$R(w) = \\sum_{j=1}^{D}|w_j|$$\n",
    "$L2$ регуляризация:\n",
    "$$R(w) =  \\sum_{j=1}^{D}w_j^2$$\n",
    "\n",
    "С их помощью мы ограничиваем модель в  возможности выбора каких угодно весов минимизирующих наш лосс, модель уже не сможет подстроиться под данные как ей угодно. \n",
    "\n",
    "Вам нужно добавить соотвествущую Вашему варианту $L2$ регуляризацию.\n",
    "\n",
    "И так, мы поняли, какую функцию ошибки будем минимизировать, разобрались, как получить предсказания по объекту и обученным весам. Осталось разобраться, как получить оптимальные веса. Для этого нужно выбрать какой-то метод оптимизации.\n",
    "\n"
   ]
  },
  {
   "cell_type": "markdown",
   "metadata": {},
   "source": [
    "Градиентный спуск является самым популярным алгоритмом обучения линейных моделей. В этом задании Вам предложат реализовать стохастический градиентный спуск или  мини-батч градиентный спуск (мини-батч на русский язык довольно сложно перевести, многие переводят это как \"пакетный\", но мне не кажется этот перевод удачным). Далее нам потребуется определение **эпохи**.\n",
    "Эпохой в SGD и MB-GD называется один проход по **всем** объектам в обучающей выборки.\n",
    "* В SGD градиент расчитывается по одному случайному объекту. Сам алгоритм выглядит примерно так:\n",
    "        1) Перемешать выборку\n",
    "        2) Посчитать градиент функции потерь на одном объекте (далее один объект тоже будем называть батчем)\n",
    "        3) Сделать шаг спуска\n",
    "        4) Повторять 2) и 3) пока не пройдет максимальное число эпох.\n",
    "* В Mini Batch SGD - по подвыборке объектов. Сам алгоритм выглядит примерно так::\n",
    "        1) Перемешать выборку, выбрать размер мини-батча (от 1 до размера выборки)\n",
    "        2) Почитать градиент функции потерь по мини-батчу (не забыть поделить на  число объектов в мини-батче)\n",
    "        3) Сделать шаг спуска\n",
    "        4) Повторять 2) и 3) пока не пройдет максимальное число эпох.\n",
    "* Для отладки алгоритма реализуйте возможность  вывода средней ошибки на обучении модели по объектам (мини-батчам). После шага градиентного спуска посчитайте значение ошибки на объекте (или мини-батче), а затем усредните, например, по ста шагам. Если обучение проходит корректно, то мы должны увидеть, что каждые 100 шагов функция потерь уменьшается. \n",
    "* Правило останова - максимальное количество эпох\n",
    "    \n"
   ]
  },
  {
   "cell_type": "markdown",
   "metadata": {},
   "source": [
    "# Теоретические вопросы (2 балла)\n",
    "В этой части Вам будут предложены теоретичские вопросы и задачи по теме. Вы, конечно, можете списать их у своего товарища или найти решение в интернете, но учтите, что они обязательно войдут в теоретический коллоквиум. Лучше разобраться в теме сейчас и успешно ответить на коллоквиуме, чем списать, не разобравшись в материале, и быть терзаемым совестью. \n",
    "\n",
    "\n",
    "Формулы надо оформлять в формате **LaTeX**."
   ]
  },
  {
   "cell_type": "markdown",
   "metadata": {},
   "source": [
    "Задача 1. Градиент для линейной регрессии.\n",
    "* Выпишите формулу обновления весов для линейной регрессии с L2 регуляризацией для мини-батч градиентого спуска размера $n$:\n",
    "\n",
    "$$ w_{new} = w_{old} - ... $$\n",
    "\n",
    " Отнеситесь к этому пункту максимально серьезно, это Вам нужно будет реализовать в задании.\n",
    " \n",
    "Проанализруйте итоговую формулу градиента - как  интуитивно можно  описать, чему равен градиент?"
   ]
  },
  {
   "cell_type": "markdown",
   "metadata": {},
   "source": [
    "***Ваше решение здесь***\n",
    "\n",
    "$$ w_{new} = w_{old}  - \\frac{2f(k)}{N}  \\sum_{j= 1}^{N}x_{j}(\\langle\\,x_j,w_{old}\\rangle-y_{j}) -\\frac{2f(k)}{C}w_{old} $$\n",
    "\n",
    "* Если правильный ответ был  класс \"1\", а значение $\\langle\\,x_j,w_{old}\\rangle$ стремится к нулю, после шага градиентного спуска веса в среднем увеличатся.\n",
    "* Если правильный ответ был  класс \"0\", а значение $\\langle\\,x_j,w_{old}\\rangle$ стремится к единице, после шага градиентного спуска веса в среднем уменьшатся."
   ]
  },
  {
   "cell_type": "markdown",
   "metadata": {},
   "source": [
    "Задача 2. Градиент для логистической регрессии.\n",
    "* Выпишите формулу обновления весов для логистической регрессии с L2 регуляризацией  для мини-батч градиентого спуска размера $n$:\n",
    "\n",
    "$$ w_{new} = w_{old} - ... $$\n",
    "\n",
    " Отнеситесь к этому пункту максимально серьезно, это Вам нужно будет реализовать в задании.\n",
    " \n",
    "Проанализруйте итоговую формулу градиента - как  интуитивно можно  описать, чему равен градиент? Как соотносится этот градиент с градиентом, возникающий в задаче линейной регрессии?"
   ]
  },
  {
   "cell_type": "markdown",
   "metadata": {},
   "source": [
    "***Ваше решение здесь***\n",
    "$$ w_{new} = w_{old}  - \\frac{f(k)}{N}\\sum_j^N x_j \\left[ \\sigma(\\langle x_{j}, w_{old}\\rangle)  - y_j \\right] - 2f(k)\\frac{w_{old}}{C} $$\n",
    "* Если правильный ответ был  класс \"1\", а значение $a(x_i)$ близко к нулю, после шага градиентного спуска веса в среднем увеличатся.\n",
    "* Если правильный ответ был  класс \"0\", а значение $a(x_i)$ близко к  единице, после шага градиентного спуска веса в среднем уменьшатся.\n",
    "\n",
    "Все аналогично, но градиенты разные, потому что $\\langle x_i, w \\rangle$ !=  $ \\sigma(\\langle x_i, w\\rangle) $ "
   ]
  },
  {
   "cell_type": "markdown",
   "metadata": {},
   "source": [
    "Задача 3. Точное решение линейной регрессии\n",
    "\n",
    "На лекции было показано, что точное решение линейной регрессии имеет вид $w = (X^TX)^{-1}X^TY $. \n",
    "* Покажите, что это действительно является точкой минимума в случае, если матрица X имеет строк не меньше, чем столбцов и имеет полный ранг. Подсказка: посчитайте Гессиан и покажите, что в этом случае он положительно определен. \n",
    "* Выпишите точное решение для модели с $L2$ регуляризацией"
   ]
  },
  {
   "cell_type": "markdown",
   "metadata": {},
   "source": [
    "$$(X^TX)w-X^TY =0$$\n",
    "берем вторую производную по w\n",
    "$$X^TX=0$$\n",
    "В векторе $X$ все значение вещественны, $\\Rightarrow$ $X^TX$ положительно определенная, $\\Rightarrow$ все главные миноры положительны,  $\\Rightarrow$ $|X^TX|>0$,  $\\Rightarrow$ достаточное условие минимума выполнено.\n",
    "\n",
    "$ \\frac{\\partial L(w)}{\\partial w_j} = -\\frac{2}{N}\\sum_i^N \\left[x_{i,j}*(y_i - \\langle\\,x_{i,j},w_j\\rangle ) \\right] + \\frac{1}{C}\\sum_{k=1}^{D} \\frac{\\partial w_k^2}{\\partial w_j} = 0 $\n",
    "\n",
    "$  -\\frac{1}{N}\\sum_i^N \\left[x_{i,j}*(y_i - \\langle\\,x_{i,j},w_j\\rangle ) \\right] + \\frac{1}{C} w_j = 0 $\n",
    "\n",
    "$(X^TX)w-X^TY+\\frac{1}{C}w =0$\n",
    "\n",
    "$w = (X^TX+\\frac{1}{C}E)^{-1}X^TY $"
   ]
  },
  {
   "cell_type": "markdown",
   "metadata": {},
   "source": [
    "Задача 4.  Предсказываем вероятности.\n",
    "\n",
    "Когда говорят о логистической регрессии, произносят фразу, что она \"предсказывает вероятности положительного класса\". Давайте разберемся, что же за этим стоит. Посчитаем математическое ожидание функции потерь и проверим, что предсказание алгоритма, оптимизирующее это мат. ожидание, будет являться вероятностью положительного класса. \n",
    "\n",
    "И так, функция потерь на объекте $x_i$, который имеет метку $y_i \\in \\{0,1\\}$  для предсказания $a(x_i)$ равна:\n",
    "$$L(y_i, b) =-[y_i == 1] \\log a(x_i)  - [y_i == 0] \\log(1 - a(x_i)) $$\n",
    "\n",
    "Где $[]$ означает индикатор $-$ он равен единице, если значение внутри него истинно, иначе он равен нулю. Тогда мат. ожидание при условии конкретного $x_i$  по определение мат. ожидания дискретной случайной величины:\n",
    "$$E(L | x_i) = -p(y_i = 1 |x_i ) \\log a(x_i)  - p(y_i = 0 | x_i) \\log( 1 - a(x_i))$$\n",
    "* Докажите, что значение $a(x_i)$, минимизирующее данное мат. ожидание, в точности равно $p(y_i = 1 |x_i)$, то есть равно вероятности положительного класса.\n",
    "\n",
    "Подсказка: возможно, придется воспользоваться, что  $p(y_i = 1 | x_i) + p(y_i = 0 | x_i) = 1$"
   ]
  },
  {
   "cell_type": "markdown",
   "metadata": {},
   "source": [
    "**Решение**\n",
    "$$ \\dfrac{d E(L|x_i)}{d a(x_i)} = 0 $$\n",
    "$$ \\frac {dE(L | x_i)}{da(x_i)} = - \\frac{p(y_i = 1 | x_i)}{a(x_i)}  + \\frac{p(y_i = 0 | x_i)}{1 - a(x_i)} = 0 $$\n",
    "$$  p(y_i = 1 | x_i) = a(x_i) $$"
   ]
  },
  {
   "cell_type": "markdown",
   "metadata": {},
   "source": [
    "#  Реализация линейной модели (5 баллов)"
   ]
  },
  {
   "cell_type": "markdown",
   "metadata": {},
   "source": [
    "## Зачем нужны батчи?\n"
   ]
  },
  {
   "cell_type": "markdown",
   "metadata": {},
   "source": [
    "Как Вы могли заметить из теоретического введения, что в случае SGD, что в случа mini-batch GD,  на каждой итерации обновление весов  происходит только по небольшой части данных (1 пример в случае SGD, batch примеров в случае mini-batch). То есть для каждой итерации нам *** не нужна вся выборка***. Мы можем просто итерироваться по выборке, беря батч нужного размера (далее 1 объект тоже будем называть батчом).\n",
    "\n",
    "Легко заметить, что в этом случае нам не нужно загружать все данные в оперативную память, достаточно просто считать батч с диска, обновить веса, считать диска другой батч и так далее. В целях упрощения домашней работы, прямо с диска  мы считывать не будем, будем работать с обычными numpy array. \n",
    "\n",
    "\n",
    "\n"
   ]
  },
  {
   "cell_type": "markdown",
   "metadata": {},
   "source": [
    "## Немножко про генераторы в Python\n",
    "\n"
   ]
  },
  {
   "cell_type": "markdown",
   "metadata": {},
   "source": [
    "Идея считывания данных кусками удачно ложится на так называемые ***генераторы*** из языка Python. В данной работе Вам предлагается не только разобраться с логистической регрессией, но  и познакомиться с таким важным элементом языка.  При желании Вы можете убрать весь код, связанный с генераторами, и реализовать логистическую регрессию и без них, ***штрафоваться это никак не будет***. Главное, чтобы сама модель была реализована правильно, и все пункты были выполнены. \n",
    "\n",
    "Подробнее можно почитать вот тут https://anandology.com/python-practice-book/iterators.html\n"
   ]
  },
  {
   "cell_type": "markdown",
   "metadata": {},
   "source": [
    "К генератору стоит относиться просто как к функции, которая порождает не один объект, а целую последовательность объектов. Новое значение из последовательности генерируется с помощью ключевого слова ***yield***. Ниже Вы можете насладиться  генератором чисел Фибоначчи."
   ]
  },
  {
   "cell_type": "code",
   "execution_count": 35,
   "metadata": {},
   "outputs": [],
   "source": [
    "def fib(max_iter=5):\n",
    "    a, b = 0, 1\n",
    "    iter_num = 0\n",
    "    while 1:\n",
    "        yield a\n",
    "        a, b = b, a + b\n",
    "        iter_num += 1\n",
    "        if iter_num == max_iter:\n",
    "            break"
   ]
  },
  {
   "cell_type": "markdown",
   "metadata": {},
   "source": [
    "Вот так можно сгенерировать последовательность Фибоначчи. \n",
    "\n",
    "Заметьте, что к генераторам можно применять некоторые стандартные функции из Python, например enumerate."
   ]
  },
  {
   "cell_type": "code",
   "execution_count": 36,
   "metadata": {},
   "outputs": [
    {
     "name": "stdout",
     "output_type": "stream",
     "text": [
      "Fib num: 0 fib values: 0\n",
      "Fib num: 1 fib values: 1\n",
      "Fib num: 2 fib values: 1\n",
      "Fib num: 3 fib values: 2\n",
      "Fib num: 4 fib values: 3\n"
     ]
    }
   ],
   "source": [
    "new_generator = fib()\n",
    "for j, fib_val in enumerate(new_generator):\n",
    "    print (\"Fib num: \" + str(j) + \" fib values: \" + str(fib_val))"
   ]
  },
  {
   "cell_type": "markdown",
   "metadata": {},
   "source": [
    "Пересоздавая объект, можно сколько угодно раз генерировать заново последовательность. "
   ]
  },
  {
   "cell_type": "code",
   "execution_count": 37,
   "metadata": {},
   "outputs": [
    {
     "name": "stdout",
     "output_type": "stream",
     "text": [
      "Fib num: 0 fib values: 0\n",
      "Fib num: 1 fib values: 1\n",
      "Fib num: 2 fib values: 1\n",
      "Fib num: 3 fib values: 2\n",
      "Fib num: 4 fib values: 3\n",
      "Fib num: 0 fib values: 0\n",
      "Fib num: 1 fib values: 1\n",
      "Fib num: 2 fib values: 1\n",
      "Fib num: 3 fib values: 2\n",
      "Fib num: 4 fib values: 3\n",
      "Fib num: 0 fib values: 0\n",
      "Fib num: 1 fib values: 1\n",
      "Fib num: 2 fib values: 1\n",
      "Fib num: 3 fib values: 2\n",
      "Fib num: 4 fib values: 3\n"
     ]
    }
   ],
   "source": [
    "for i in range(0, 3):\n",
    "    new_generator = fib()\n",
    "    for j, fib_val in enumerate(new_generator):\n",
    "        print (\"Fib num: \" + str(j) + \" fib values: \" + str(fib_val))"
   ]
  },
  {
   "cell_type": "markdown",
   "metadata": {},
   "source": [
    "А вот так уже нельзя."
   ]
  },
  {
   "cell_type": "code",
   "execution_count": 38,
   "metadata": {},
   "outputs": [
    {
     "name": "stdout",
     "output_type": "stream",
     "text": [
      "Fib num: 0 fib values: 0\n",
      "Fib num: 1 fib values: 1\n",
      "Fib num: 2 fib values: 1\n",
      "Fib num: 3 fib values: 2\n",
      "Fib num: 4 fib values: 3\n"
     ]
    }
   ],
   "source": [
    "new_generator = fib()\n",
    "for i in range(0, 3):\n",
    "    for j, fib_val in enumerate(new_generator):\n",
    "        print (\"Fib num: \" + str(j) + \" fib values: \" + str(fib_val))"
   ]
  },
  {
   "cell_type": "markdown",
   "metadata": {},
   "source": [
    "Концепция крайне удобная для обучения  моделей $-$ у Вас есть некий источник данных, который Вам выдает их кусками, и Вам совершенно все равно откуда он их берет. Под ним может скрывать как массив в оперативной памяти, как файл на жестком диске, так и SQL база данных. Вы сами данные никуда не сохраняете, оперативную память экономите."
   ]
  },
  {
   "cell_type": "markdown",
   "metadata": {},
   "source": [
    "Если Вам понравилась идея с генераторами, то Вы можете реализовать свой, используя прототип batch_generator. В нем Вам нужно выдавать батчи признаков и ответов для каждой новой итерации спуска. Если не понравилась идея, то можете реализовывать SGD или mini-batch GD без генераторов."
   ]
  },
  {
   "cell_type": "code",
   "execution_count": 39,
   "metadata": {},
   "outputs": [],
   "source": [
    "def batch_generator(X, y, shuffle=True, batch_size=1):\n",
    "    \"\"\"\n",
    "    Гератор новых батчей для обучения\n",
    "    X          - матрица объекты-признаки\n",
    "    y_batch    - вектор ответов\n",
    "    shuffle    - нужно ли случайно перемешивать выборку\n",
    "    batch_size - размер батча ( 1 это SGD, > 1 mini-batch GD)\n",
    "    Генерирует подвыборку для итерации спуска (X_batch, y_batch)\n",
    "    \"\"\"\n",
    "    size=X.shape[0]\n",
    "    ind=np.arange(size)\n",
    "    if shuffle:\n",
    "        np.random.shuffle(ind)\n",
    "    for i in range(0, size, batch_size):\n",
    "        indx=ind[i : min(i+batch_size, size)]\n",
    "        X_batch = X[indx]\n",
    "        y_batch = y[indx]\n",
    "        yield (X_batch, y_batch)\n",
    "\n",
    "# Теперь можно сделать генератор по данным ()\n",
    "#  my_batch_generator = batch_generator(X, y, shuffle=True, batch_size=1):"
   ]
  },
  {
   "cell_type": "code",
   "execution_count": 58,
   "metadata": {},
   "outputs": [],
   "source": [
    "#%%pycodestyle\n",
    "\n",
    "def sigmoid(x):\n",
    "    \"\"\"\n",
    "    Вычисляем значение сигмоида.\n",
    "    X - выход линейной модели\n",
    "    \"\"\"\n",
    "    \n",
    "    sigm_value_x=1/(1+np.exp(-x))\n",
    "    return sigm_value_x\n",
    "\n",
    "\n",
    "from sklearn.base import BaseEstimator, ClassifierMixin\n",
    "\n",
    "class MySGDClassifier(BaseEstimator, ClassifierMixin):\n",
    "    \n",
    "    def __init__(self, batch_generator, C=1, alpha=0.01, max_epoch=10, model_type='lin_reg', batch_size=1):\n",
    "        \"\"\"\n",
    "        batch_generator -- функция генератор, которой будем создавать батчи\n",
    "        C - коэф. регуляризации\n",
    "        alpha - скорость спуска\n",
    "        max_epoch - максимальное количество эпох\n",
    "        model_type - тим модели, lin_reg или log_reg\n",
    "        \"\"\"\n",
    "        \n",
    "        self.C = C\n",
    "        self.alpha = alpha\n",
    "        self.max_epoch = max_epoch\n",
    "        self.batch_generator = batch_generator\n",
    "        self.errors_log = {'iter' : [], 'loss' : []}  \n",
    "        self.model_type = model_type\n",
    "        self.batch_size=batch_size\n",
    "        \n",
    "    def calc_loss(self, X_batch, y_batch):\n",
    "        \"\"\"\n",
    "        Считаем функцию потерь по батчу \n",
    "        X_batch - матрица объекты-признаки по батчу\n",
    "        y_batch - вектор ответов по батчу\n",
    "        Не забудте тип модели (линейная или логистическая регрессия)!\n",
    "        \"\"\"\n",
    "        if(self.model_type=='lin_reg'):\n",
    "            s=np.dot(X_batch,self.weights)\n",
    "            loss=np.sum((y_batch-s)**2)\n",
    "            loss/=X_batch.shape[0]\n",
    "            loss+=np.sum(self.weights**2)/self.C\n",
    "        if(self.model_type=='log_reg'):\n",
    "            sgm = sigmoid(np.dot(X_batch, self.weights))\n",
    "            loss = -np.sum(y_batch * np.log(sgm) + (1 - y_batch) * np.log(1 - sgm))\n",
    "            loss /= X_batch.shape[0]\n",
    "            loss += np.sum(self.weights ** 2) / self.C\n",
    "        return loss\n",
    "    \n",
    "    def calc_loss_grad(self, X_batch, y_batch):\n",
    "        \"\"\"\n",
    "        Считаем  градиент функции потерь по батчу (то что Вы вывели в задании 1)\n",
    "        X_batch - матрица объекты-признаки по батчу\n",
    "        y_batch - вектор ответов по батчу\n",
    "        Не забудте тип модели (линейная или логистическая регрессия)!\n",
    "        \"\"\"\n",
    "        if(self.model_type=='lin_reg'):\n",
    "            s=np.dot(X_batch, self.weights)\n",
    "            loss_grad = 2*np.dot(s - y_batch, X_batch) / X_batch.shape[0]\n",
    "            loss_grad+=2*self.weights/self.C\n",
    "        if(self.model_type=='log_reg'):\n",
    "            sgm = sigmoid(np.dot(X_batch, self.weights))\n",
    "            loss_grad = np.dot(sgm - y_batch, X_batch) / X_batch.shape[0]\n",
    "            loss_grad += 2 * self.weights / self.C\n",
    "        return loss_grad\n",
    "    \n",
    "    def update_weights(self, new_grad):\n",
    "        \"\"\"\n",
    "        Обновляем вектор весов\n",
    "        new_grad - градиент по батчу\n",
    "        \"\"\"\n",
    "        self.weights -= self.alpha * new_grad\n",
    "    \n",
    "    def fit(self, X, y):\n",
    "        '''\n",
    "        Обучение модели\n",
    "        X - матрица объекты-признаки\n",
    "        y - вектор ответов\n",
    "        '''\n",
    "        \n",
    "        # Нужно инициализровать случайно веса\n",
    "        _X = np.hstack((np.ones((X.shape[0], 1)), X)) # добавили w0 который единица \n",
    "        self.weights = np.random.uniform(0, 1, _X.shape[1]) #можно конечно и нулями сделать\n",
    "        for n in range(0, self.max_epoch):\n",
    "            new_epoch_generator = self.batch_generator(_X,y, batch_size=self.batch_size)\n",
    "            for batch_num, new_batch in enumerate(new_epoch_generator):\n",
    "                X_batch = new_batch[0]\n",
    "                y_batch = new_batch[1]\n",
    "                batch_grad = self.calc_loss_grad(X_batch, y_batch)\n",
    "                batch_loss = self.calc_loss(X_batch, y_batch)\n",
    "                self.update_weights(batch_grad)\n",
    "                self.errors_log['iter'].append(batch_num)\n",
    "                self.errors_log['loss'].append(batch_loss)\n",
    "\n",
    "                \n",
    "        return self\n",
    "    \n",
    "    \n",
    "    def predict(self, X):\n",
    "        '''\n",
    "        Предсказание класса\n",
    "        X - матрица объекты-признаки\n",
    "        Не забудте тип модели (линейная или логистическая регрессия)!\n",
    "        '''\n",
    "        if(self.model_type=='lin_reg'):\n",
    "            s=(self.predict_proba(X)>0).astype(int)\n",
    "        if(self.model_type=='log_reg'):\n",
    "            s=(self.predict_proba(X) > 0.5).astype(int)\n",
    "        return s\n",
    "     \n",
    "        \n",
    "    def predict_proba(self, X):\n",
    "        _X = np.hstack((np.ones((X.shape[0], 1)), X))\n",
    "        if(self.model_type=='lin_reg'):\n",
    "            s=np.dot(_X, self.weights)\n",
    "        if(self.model_type=='log_reg'):\n",
    "            s=sigmoid(np.dot(_X, self.weights))\n",
    "        return s"
   ]
  },
  {
   "cell_type": "markdown",
   "metadata": {},
   "source": [
    "Запустите обе регрессии на синтетических данных. \n",
    "\n",
    "\n",
    "Выведите полученные веса и нарисуйте разделяющую границу между классами (используйте только первых два веса для первых двух признаков X[:,0], X[:,1] для отображения в 2d пространство ).  "
   ]
  },
  {
   "cell_type": "code",
   "execution_count": 59,
   "metadata": {},
   "outputs": [],
   "source": [
    "def plot_decision_boundary(clf, lbl=None):\n",
    "    wts = clf.weights\n",
    "    x = np.linspace(-7, 10, num=2)\n",
    "    plt.plot(x, -(wts[1] * x + wts[0]) / wts[2], label='{}'.format(lbl))"
   ]
  },
  {
   "cell_type": "code",
   "execution_count": 60,
   "metadata": {},
   "outputs": [
    {
     "data": {
      "text/plain": [
       "<matplotlib.collections.PathCollection at 0x20ba1bcfb38>"
      ]
     },
     "execution_count": 60,
     "metadata": {},
     "output_type": "execute_result"
    },
    {
     "data": {
      "image/png": "[encoded data removed]",
      "text/plain": [
       "<Figure size 432x288 with 1 Axes>"
      ]
     },
     "metadata": {
      "needs_background": "light"
     },
     "output_type": "display_data"
    }
   ],
   "source": [
    "np.random.seed(0)\n",
    "\n",
    "C1 = np.array([[0., -0.8], [1.5, 0.8]])\n",
    "C2 = np.array([[1., -0.7], [2., 0.7]])\n",
    "gauss1 = np.dot(np.random.randn(200, 2) + np.array([5, 3]), C1)\n",
    "gauss2 = np.dot(np.random.randn(200, 2) + np.array([1.5, 0]), C2)\n",
    "\n",
    "X = np.vstack([gauss1, gauss2])\n",
    "y = np.r_[np.ones(200), np.zeros(200)]\n",
    "\n",
    "\n",
    "# plot_decision_boundary(your_model)\n",
    "myclf1 = MySGDClassifier(batch_generator, C=1000, model_type='lin_reg')\n",
    "myclf1.fit(X, y)\n",
    "plot_decision_boundary(myclf1,'lin_reg')\n",
    "myclf2 = MySGDClassifier(batch_generator, C=1000, model_type='log_reg')\n",
    "myclf2.fit(X, y)\n",
    "plot_decision_boundary(myclf2,'log_reg')\n",
    "plt.legend()\n",
    "plt.scatter(X[:,0], X[:,1], c=y)"
   ]
  },
  {
   "cell_type": "markdown",
   "metadata": {},
   "source": [
    "Далее будем анализировать Ваш алгоритм. \n",
    "Для этих заданий используйте датасет ниже."
   ]
  },
  {
   "cell_type": "code",
   "execution_count": 61,
   "metadata": {},
   "outputs": [],
   "source": [
    "from sklearn.datasets import make_classification"
   ]
  },
  {
   "cell_type": "code",
   "execution_count": 62,
   "metadata": {},
   "outputs": [
    {
     "data": {
      "text/plain": [
       "(1000, 10)"
      ]
     },
     "execution_count": 62,
     "metadata": {},
     "output_type": "execute_result"
    }
   ],
   "source": [
    "X, y = make_classification(n_samples=1000, n_features=10, \n",
    "                           n_informative=4, n_redundant=0, \n",
    "                           random_state=123, class_sep=1.0,\n",
    "                           n_clusters_per_class=1)\n",
    "X.shape"
   ]
  },
  {
   "cell_type": "markdown",
   "metadata": {},
   "source": [
    "Покажите сходимости обеих регрессией на этом датасете: изобразите график  функции потерь, усредненной по $N$ шагам градиентого спуска, для разных `alpha` (размеров шага). Разные `alpha` расположите на одном графике. \n",
    "\n",
    "$N$ можно брать 10, 50, 100 и т.д. "
   ]
  },
  {
   "cell_type": "code",
   "execution_count": 63,
   "metadata": {},
   "outputs": [
    {
     "data": {
      "image/png": "[encoded data removed]",
      "text/plain": [
       "<Figure size 720x360 with 1 Axes>"
      ]
     },
     "metadata": {
      "needs_background": "light"
     },
     "output_type": "display_data"
    }
   ],
   "source": [
    "plt.figure(figsize=(10, 5))\n",
    "N = 500\n",
    "alpha = [0.01, 0.05, 0.1, 0.5]\n",
    "for a in alpha:\n",
    "    myclf_1 = MySGDClassifier(batch_generator, alpha=a, C=1000, model_type='log_reg')\n",
    "    myclf_1.fit(X, y)\n",
    "    m = []\n",
    "    for i in range(len(myclf_1.errors_log['loss']) // N):\n",
    "        m.append(np.sum(myclf_1.errors_log['loss'][i * N : (i + 1) * N]) / N)\n",
    "    plt.plot(np.arange(len(m)), m, label='alpha = {}'.format(a))\n",
    "plt.legend()\n",
    "plt.show()"
   ]
  },
  {
   "cell_type": "code",
   "execution_count": 74,
   "metadata": {},
   "outputs": [
    {
     "name": "stderr",
     "output_type": "stream",
     "text": [
      "C:\\Users\\vkrin\\Anaconda3\\lib\\site-packages\\ipykernel_launcher.py:43: RuntimeWarning: overflow encountered in square\n",
      "C:\\Users\\vkrin\\Anaconda3\\lib\\site-packages\\ipykernel_launcher.py:45: RuntimeWarning: overflow encountered in square\n",
      "C:\\Users\\vkrin\\Anaconda3\\lib\\site-packages\\ipykernel_launcher.py:62: RuntimeWarning: overflow encountered in multiply\n",
      "C:\\Users\\vkrin\\Anaconda3\\lib\\site-packages\\ipykernel_launcher.py:75: RuntimeWarning: invalid value encountered in subtract\n"
     ]
    },
    {
     "data": {
      "image/png": "[encoded data removed]",
      "text/plain": [
       "<Figure size 1440x720 with 1 Axes>"
      ]
     },
     "metadata": {
      "needs_background": "light"
     },
     "output_type": "display_data"
    }
   ],
   "source": [
    "plt.figure(figsize=(20, 10))\n",
    "N = 1000\n",
    "alpha = [0.01, 0.05, 0.1, 0.5]\n",
    "for a in alpha:\n",
    "    myclf_2 = MySGDClassifier(batch_generator, alpha=a, C=100)\n",
    "    myclf_2.fit(X, y)\n",
    "    m2 = []\n",
    "    for i in range(len(myclf_2.errors_log['loss']) // N):\n",
    "        m2.append(np.sum(myclf_2.errors_log['loss'][i * N : (i + 1) * N]) / N)\n",
    "    plt.plot(np.arange(len(m2)), m2, label='alpha = {}'.format(a))\n",
    "plt.legend()\n",
    "plt.show()"
   ]
  },
  {
   "cell_type": "markdown",
   "metadata": {},
   "source": [
    "Что Вы можете сказать про сходимость метода при различных `alpha`? Какое значение стоит выбирать для лучшей сходимости?"
   ]
  },
  {
   "cell_type": "markdown",
   "metadata": {},
   "source": [
    "Для довольно больших `alpha` возможно постоянное перепрыгивание через локальный минимум. \n",
    "Более менее оптимальное `alpha` мне кажется примерно равным 0,01"
   ]
  },
  {
   "cell_type": "markdown",
   "metadata": {},
   "source": [
    "Изобразите график среднего значения весов для обеих регрессий в зависимости от коеф. регуляризации С из `np.logspace(3, -3, 10)` "
   ]
  },
  {
   "cell_type": "code",
   "execution_count": 75,
   "metadata": {},
   "outputs": [
    {
     "name": "stderr",
     "output_type": "stream",
     "text": [
      "C:\\Users\\vkrin\\Anaconda3\\lib\\site-packages\\ipykernel_launcher.py:45: RuntimeWarning: overflow encountered in double_scalars\n",
      "C:\\Users\\vkrin\\Anaconda3\\lib\\site-packages\\ipykernel_launcher.py:43: RuntimeWarning: overflow encountered in square\n",
      "C:\\Users\\vkrin\\Anaconda3\\lib\\site-packages\\ipykernel_launcher.py:45: RuntimeWarning: overflow encountered in square\n",
      "C:\\Users\\vkrin\\Anaconda3\\lib\\site-packages\\ipykernel_launcher.py:63: RuntimeWarning: overflow encountered in true_divide\n"
     ]
    },
    {
     "data": {
      "image/png": "[encoded data removed]",
      "text/plain": [
       "<Figure size 1008x504 with 1 Axes>"
      ]
     },
     "metadata": {
      "needs_background": "light"
     },
     "output_type": "display_data"
    }
   ],
   "source": [
    "plt.figure(figsize=(14, 7))\n",
    "ks = np.logspace(3, -3, 10)\n",
    "mw = np.zeros(ks.shape)\n",
    "\n",
    "for i, C in enumerate(ks):\n",
    "    myclf = MySGDClassifier(batch_generator, C=C)\n",
    "    myclf.fit(X, y)\n",
    "    mw[i] = myclf.weights.mean()\n",
    "    \n",
    "plt.plot(ks, mw)\n",
    "plt.show()"
   ]
  },
  {
   "cell_type": "markdown",
   "metadata": {},
   "source": [
    "Довольны ли Вы, насколько сильно уменьшились Ваши веса? "
   ]
  },
  {
   "cell_type": "code",
   "execution_count": 56,
   "metadata": {},
   "outputs": [
    {
     "name": "stderr",
     "output_type": "stream",
     "text": [
      "C:\\Users\\vkrin\\Anaconda3\\lib\\site-packages\\ipykernel_launcher.py:48: RuntimeWarning: divide by zero encountered in log\n",
      "C:\\Users\\vkrin\\Anaconda3\\lib\\site-packages\\ipykernel_launcher.py:48: RuntimeWarning: invalid value encountered in multiply\n",
      "C:\\Users\\vkrin\\Anaconda3\\lib\\site-packages\\ipykernel_launcher.py:50: RuntimeWarning: overflow encountered in double_scalars\n",
      "C:\\Users\\vkrin\\Anaconda3\\lib\\site-packages\\ipykernel_launcher.py:50: RuntimeWarning: overflow encountered in square\n",
      "C:\\Users\\vkrin\\Anaconda3\\lib\\site-packages\\ipykernel_launcher.py:67: RuntimeWarning: overflow encountered in true_divide\n"
     ]
    },
    {
     "data": {
      "image/png": "[encoded data removed]",
      "text/plain": [
       "<Figure size 1008x504 with 1 Axes>"
      ]
     },
     "metadata": {
      "needs_background": "light"
     },
     "output_type": "display_data"
    }
   ],
   "source": [
    "plt.figure(figsize=(14, 7))\n",
    "ks = np.logspace(3, -3, 10)\n",
    "mw = np.zeros(ks.shape)\n",
    "\n",
    "for i, C in enumerate(ks):\n",
    "    myclf = MySGDClassifier(batch_generator, C=C, model_type='log_reg')\n",
    "    myclf.fit(X, y)\n",
    "    mw[i] = myclf.weights.mean()\n",
    "    \n",
    "plt.plot(ks, mw)\n",
    "plt.show()"
   ]
  },
  {
   "cell_type": "markdown",
   "metadata": {},
   "source": [
    "# Боевое применение (3  балла)"
   ]
  },
  {
   "cell_type": "markdown",
   "metadata": {},
   "source": [
    "Давайте применим модель на итоговом проекте! Датасет сделаем точно таким же образом, как было показано в project_overview-2.ipynb\n",
    "\n",
    "Применим обе регрессии, подберем для них параметры и сравним качество. Может быть Вы еще одновременно с решением домашней работы подрастете на лидерборде!"
   ]
  },
  {
   "cell_type": "code",
   "execution_count": 76,
   "metadata": {},
   "outputs": [
    {
     "name": "stdout",
     "output_type": "stream",
     "text": [
      "28026\n"
     ]
    }
   ],
   "source": [
    "import shutil\n",
    "import sys\n",
    "doc_to_title = {}\n",
    "with open('docs_titles.tsv',encoding='utf-8') as f:\n",
    "    for num_line, line in enumerate(f):\n",
    "        if num_line == 0:\n",
    "            continue\n",
    "        data = line.strip().split('\\t', 1)\n",
    "        doc_id = int(data[0])\n",
    "        if len(data) == 1:\n",
    "            title = ''\n",
    "        else:\n",
    "            title = data[1]\n",
    "        doc_to_title[doc_id] = title\n",
    "print (len(doc_to_title))\n"
   ]
  },
  {
   "cell_type": "code",
   "execution_count": 77,
   "metadata": {},
   "outputs": [],
   "source": [
    "import pandas as pd\n",
    "train_data = pd.read_csv('train_groups.csv')\n",
    "traingroups_titledata = {}\n",
    "for i in range(len(train_data)):\n",
    "    new_doc = train_data.iloc[i]\n",
    "    doc_group = new_doc['group_id']\n",
    "    doc_id = new_doc['doc_id']\n",
    "    target = new_doc['target']\n",
    "    title = doc_to_title[doc_id]\n",
    "    if doc_group not in traingroups_titledata:\n",
    "        traingroups_titledata[doc_group] = []\n",
    "    traingroups_titledata[doc_group].append((doc_id, title, target))"
   ]
  },
  {
   "cell_type": "code",
   "execution_count": 78,
   "metadata": {},
   "outputs": [
    {
     "name": "stdout",
     "output_type": "stream",
     "text": [
      "(11690, 15) (11690,) (11690,)\n"
     ]
    }
   ],
   "source": [
    "import numpy as np\n",
    "y_train = []\n",
    "X_train = []\n",
    "groups_train = []\n",
    "for new_group in traingroups_titledata:\n",
    "    docs = traingroups_titledata[new_group]\n",
    "    for k, (doc_id, title, target_id) in enumerate(docs):\n",
    "        y_train.append(target_id)\n",
    "        groups_train.append(new_group)\n",
    "        all_dist = []\n",
    "        words = set(title.strip().split())\n",
    "        for j in range(0, len(docs)):\n",
    "            if k == j:\n",
    "                continue\n",
    "            doc_id_j, title_j, target_j = docs[j]\n",
    "            words_j = set(title_j.strip().split())\n",
    "            all_dist.append(len(words.intersection(words_j)))\n",
    "        X_train.append(sorted(all_dist, reverse=True)[0:15]    )\n",
    "X_train = np.array(X_train)\n",
    "y_train = np.array(y_train)\n",
    "groups_train = np.array(groups_train)\n",
    "print (X_train.shape, y_train.shape, groups_train.shape)"
   ]
  },
  {
   "cell_type": "markdown",
   "metadata": {},
   "source": [
    "Подберите размер батча для обучения. Линейная модель не должна учиться дольше нескольких минут. \n",
    "\n",
    "Не забывайте использовать скейлер!"
   ]
  },
  {
   "cell_type": "code",
   "execution_count": 79,
   "metadata": {},
   "outputs": [],
   "source": [
    "from sklearn.metrics import f1_score\n",
    "from sklearn.linear_model import LinearRegression\n",
    "from sklearn.preprocessing import StandardScaler\n",
    "from sklearn.model_selection import train_test_split\n",
    "from sklearn.model_selection import cross_val_score\n",
    "from sklearn.linear_model import LogisticRegression\n",
    "from sklearn.metrics import accuracy_score\n",
    "from sklearn.metrics import roc_auc_score\n",
    "scale_features_std = StandardScaler()"
   ]
  },
  {
   "cell_type": "code",
   "execution_count": 80,
   "metadata": {},
   "outputs": [
    {
     "name": "stdout",
     "output_type": "stream",
     "text": [
      "0.6631228335553067\n",
      "0.20659672831724296\n",
      "0.5039470876893536\n"
     ]
    },
    {
     "name": "stderr",
     "output_type": "stream",
     "text": [
      "C:\\Users\\vkrin\\Anaconda3\\lib\\site-packages\\sklearn\\utils\\validation.py:595: DataConversionWarning: Data with input dtype int32 was converted to float64 by StandardScaler.\n",
      "  warnings.warn(msg, DataConversionWarning)\n",
      "C:\\Users\\vkrin\\Anaconda3\\lib\\site-packages\\sklearn\\utils\\validation.py:595: DataConversionWarning: Data with input dtype int32 was converted to float64 by StandardScaler.\n",
      "  warnings.warn(msg, DataConversionWarning)\n",
      "C:\\Users\\vkrin\\Anaconda3\\lib\\site-packages\\sklearn\\model_selection\\_split.py:2179: FutureWarning: From version 0.21, test_size will always complement train_size unless both are specified.\n",
      "  FutureWarning)\n"
     ]
    }
   ],
   "source": [
    "lr=LinearRegression()\n",
    "scale_features_std = StandardScaler()\n",
    "X_train=scale_features_std.fit_transform(X_train) \n",
    "X_train2, X_test2, y_train2, y_test2 = train_test_split(X_train, y_train,train_size=0.1, stratify=y_train)\n",
    "lr.fit(X_train2, y_train2)\n",
    "print(roc_auc_score(y_test2, (lr.predict(X_test2)>=0.5).astype(int)))\n",
    "print(lr.score(X_test2, y_test2))\n",
    "print(f1_score(y_test2, (lr.predict(X_test2)>=0.5).astype(int)))"
   ]
  },
  {
   "cell_type": "code",
   "execution_count": 81,
   "metadata": {},
   "outputs": [
    {
     "data": {
      "text/plain": [
       "0.4489522661846421"
      ]
     },
     "execution_count": 81,
     "metadata": {},
     "output_type": "execute_result"
    }
   ],
   "source": [
    "myclf = MySGDClassifier(batch_generator,alpha=0.01, C=100, model_type='lin_reg', batch_size=100)\n",
    "myclf.fit(X_train, y_train)\n",
    "f1_score(y_train, myclf.predict(X_train))"
   ]
  },
  {
   "cell_type": "code",
   "execution_count": 82,
   "metadata": {},
   "outputs": [
    {
     "data": {
      "text/plain": [
       "0.6105315449577745"
      ]
     },
     "execution_count": 82,
     "metadata": {},
     "output_type": "execute_result"
    }
   ],
   "source": [
    "myclf = MySGDClassifier(batch_generator,alpha=0.01, C=1000, max_epoch=1, model_type='lin_reg', batch_size=5000)\n",
    "myclf.fit(X_train, y_train)\n",
    "f1_score(y_train, myclf.predict(X_train))"
   ]
  },
  {
   "cell_type": "code",
   "execution_count": 83,
   "metadata": {},
   "outputs": [
    {
     "name": "stderr",
     "output_type": "stream",
     "text": [
      "C:\\Users\\vkrin\\Anaconda3\\lib\\site-packages\\ipykernel_launcher.py:48: RuntimeWarning: divide by zero encountered in log\n",
      "C:\\Users\\vkrin\\Anaconda3\\lib\\site-packages\\ipykernel_launcher.py:48: RuntimeWarning: invalid value encountered in multiply\n"
     ]
    },
    {
     "data": {
      "text/plain": [
       "0.6103461109043543"
      ]
     },
     "execution_count": 83,
     "metadata": {},
     "output_type": "execute_result"
    }
   ],
   "source": [
    "myclf = MySGDClassifier(batch_generator, alpha=0.0001, C=100, model_type='log_reg', batch_size=200)\n",
    "myclf.fit(X_train, y_train)\n",
    "f1_score(y_train, myclf.predict(X_train))"
   ]
  },
  {
   "cell_type": "markdown",
   "metadata": {},
   "source": [
    "Разбейте данные на обучение и валидацию. Подберите параметры C, alpha, max_epoch, model_type на валидации (Вы же помните, как правильно в этой задаче делать валидацию?)"
   ]
  },
  {
   "cell_type": "code",
   "execution_count": 15,
   "metadata": {},
   "outputs": [
    {
     "name": "stdout",
     "output_type": "stream",
     "text": [
      "0.4470463012240553 0.01 1 1 1\n",
      "0.5911674682990817 0.01 1 1 5\n",
      "0.577126577126577 0.01 1 1 10\n",
      "0.5045454545454545 0.01 1 1 50\n",
      "0.5436681222707423 0.01 1 1 100\n",
      "0.562992125984252 0.01 1 1 500\n",
      "0.596606974552309 0.01 1 1 1000\n",
      "0.6011877569666514 0.01 1 1 5000\n",
      "0.606501698204755 0.01 1 1 10000\n",
      "0.5053728427222404 0.01 1 2 1\n",
      "0.5826377295492488 0.01 1 2 5\n",
      "0.5027428202646015 0.01 1 2 10\n",
      "0.5562403697996918 0.01 1 2 50\n",
      "0.5063955395211545 0.01 1 2 100\n",
      "0.5403348554033486 0.01 1 2 500\n",
      "0.4642656162070906 0.01 1 2 1000\n",
      "0.6073710073710074 0.01 1 2 5000\n",
      "0.6033797216699801 0.01 1 2 10000\n",
      "0.4452127659574468 0.01 1 5 1\n",
      "0.5559815950920246 0.01 1 5 5\n",
      "0.5726978998384491 0.01 1 5 10\n",
      "0.5474695234577023 0.01 1 5 50\n",
      "0.5062295081967213 0.01 1 5 100\n",
      "0.5011100539169046 0.01 1 5 500\n",
      "0.4443812233285918 0.01 1 5 1000\n",
      "0.5964912280701754 0.01 1 5 5000\n",
      "0.5969316596931659 0.01 1 5 10000\n",
      "0.4851217312894499 0.01 5 1 1\n",
      "0.4849759615384616 0.01 5 1 5\n",
      "0.4946037619488129 0.01 5 1 10\n",
      "0.4580912863070539 0.01 5 1 50\n",
      "0.486252703120173 0.01 5 1 100\n",
      "0.44657097288676234 0.01 5 1 500\n",
      "0.5167809455070371 0.01 5 1 1000\n",
      "0.6074002883229217 0.01 5 1 5000\n",
      "0.6038647342995168 0.01 5 1 10000\n",
      "0.4542429284525791 0.01 5 2 1\n",
      "0.48424842484248426 0.01 5 2 5\n",
      "0.44645229869784747 0.01 5 2 10\n",
      "0.47630261995878714 0.01 5 2 50\n",
      "0.4723268617791945 0.01 5 2 100\n",
      "0.44883720930232557 0.01 5 2 500\n",
      "0.5977116704805492 0.01 5 2 1000\n",
      "0.6040816326530613 0.01 5 2 5000\n",
      "0.6015701668302256 0.01 5 2 10000\n",
      "0.44645229869784747 0.01 5 5 1\n",
      "0.49826114448308567 0.01 5 5 5\n",
      "0.491271056661562 0.01 5 5 10\n",
      "0.48860528714676393 0.01 5 5 50\n",
      "0.48404575556893437 0.01 5 5 100\n",
      "0.4852436513383665 0.01 5 5 500\n",
      "0.47079646017699117 0.01 5 5 1000\n",
      "0.5286280158444364 0.01 5 5 5000\n",
      "0.6059160305343511 0.01 5 5 10000\n",
      "0.4904167934286583 0.01 10 1 1\n",
      "0.48888888888888893 0.01 10 1 5\n",
      "0.48443113772455093 0.01 10 1 10\n",
      "0.45096952908587257 0.01 10 1 50\n",
      "0.4428803465078506 0.01 10 1 100\n",
      "0.4813701923076923 0.01 10 1 500\n",
      "0.5800082270670507 0.01 10 1 1000\n",
      "0.6057971014492753 0.01 10 1 5000\n",
      "0.6071065989847716 0.01 10 1 10000\n",
      "0.5038759689922481 0.01 10 2 1\n",
      "0.44645229869784747 0.01 10 2 5\n",
      "0.44645229869784747 0.01 10 2 10\n",
      "0.4792351359426351 0.01 10 2 50\n",
      "0.46581560283687945 0.01 10 2 100\n",
      "0.4648753641955325 0.01 10 2 500\n",
      "0.4789816459443457 0.01 10 2 1000\n",
      "0.6005747126436781 0.01 10 2 5000\n",
      "0.5983487129674598 0.01 10 2 10000\n",
      "0.49888641425389757 0.01 10 5 1\n",
      "0.48056956392761796 0.01 10 5 5\n",
      "0.4917330067360686 0.01 10 5 10\n",
      "0.448239060832444 0.01 10 5 50\n",
      "0.4758823529411765 0.01 10 5 100\n",
      "0.4468429573664328 0.01 10 5 500\n",
      "0.4487041036717063 0.01 10 5 1000\n",
      "0.5522273425499232 0.01 10 5 5000\n",
      "0.6027131782945737 0.01 10 5 10000\n",
      "0.5037132709073296 0.01 50 1 1\n",
      "0.4621424565339316 0.01 50 1 5\n",
      "0.47959787108219987 0.01 50 1 10\n",
      "0.44805376645197426 0.01 50 1 50\n",
      "0.44645229869784747 0.01 50 1 100\n",
      "0.46724637681159426 0.01 50 1 500\n",
      "0.6000000000000001 0.01 50 1 1000\n",
      "0.6023011505752877 0.01 50 1 5000\n",
      "0.6042884990253412 0.01 50 1 10000\n",
      "0.48998178506375234 0.01 50 2 1\n",
      "0.4921755139613378 0.01 50 2 5\n",
      "0.44735435595938 0.01 50 2 10\n",
      "0.4522131378629828 0.01 50 2 50\n",
      "0.4721080446271286 0.01 50 2 100\n",
      "0.44657097288676234 0.01 50 2 500\n",
      "0.5794392523364486 0.01 50 2 1000\n",
      "0.6037919299951385 0.01 50 2 5000\n",
      "0.6068548387096774 0.01 50 2 10000\n",
      "0.44728434504792336 0.01 50 5 1\n",
      "0.44645229869784747 0.01 50 5 5\n",
      "0.44645229869784747 0.01 50 5 10\n",
      "0.4515430427720628 0.01 50 5 50\n",
      "0.4791288566243194 0.01 50 5 100\n",
      "0.4851143842055782 0.01 50 5 500\n",
      "0.4454743729552891 0.01 50 5 1000\n",
      "0.5792880258899678 0.01 50 5 5000\n",
      "0.5970731707317074 0.01 50 5 10000\n",
      "0.448 0.01 100 1 1\n",
      "0.44975819451907584 0.01 100 1 5\n",
      "0.48244824482448234 0.01 100 1 10\n",
      "0.451830985915493 0.01 100 1 50\n",
      "0.4446890478811228 0.01 100 1 100\n",
      "0.5003412969283276 0.01 100 1 500\n",
      "0.5925537493445202 0.01 100 1 1000\n",
      "0.604968339016074 0.01 100 1 5000\n",
      "0.6006663493574488 0.01 100 1 10000\n",
      "0.4461006121905776 0.01 100 2 1\n",
      "0.4548184548184548 0.01 100 2 5\n",
      "0.45005370569280334 0.01 100 2 10\n",
      "0.46552225778295014 0.01 100 2 50\n",
      "0.4655797101449275 0.01 100 2 100\n",
      "0.43580618669586646 0.01 100 2 500\n",
      "0.5001574803149605 0.01 100 2 1000\n",
      "0.6040462427745664 0.01 100 2 5000\n",
      "0.6032977691561591 0.01 100 2 10000\n",
      "0.5009487666034156 0.01 100 5 1\n",
      "0.4846846846846847 0.01 100 5 5\n",
      "0.4551422319474836 0.01 100 5 10\n",
      "0.4493224932249323 0.01 100 5 50\n",
      "0.45439093484419263 0.01 100 5 100\n",
      "0.4342824273799251 0.01 100 5 500\n",
      "0.45013623978201633 0.01 100 5 1000\n",
      "0.6048587010411501 0.01 100 5 5000\n",
      "0.6040609137055839 0.01 100 5 10000\n",
      "0.4008859357696567 0.01 500 1 1\n",
      "0.4882133995037221 0.01 500 1 5\n",
      "0.4882082695252679 0.01 500 1 10\n",
      "0.44279835390946504 0.01 500 1 50\n",
      "0.45134689389774607 0.01 500 1 100\n",
      "0.5304532577903682 0.01 500 1 500\n",
      "0.5931417979610751 0.01 500 1 1000\n",
      "0.6028436018957346 0.01 500 1 5000\n",
      "0.5975378787878788 0.01 500 1 10000\n",
      "0.44645229869784747 0.01 500 2 1\n",
      "0.45030972259628327 0.01 500 2 5\n",
      "0.4456404736275565 0.01 500 2 10\n",
      "0.46813509544787085 0.01 500 2 50\n",
      "0.4601621470506011 0.01 500 2 100\n",
      "0.4454569820423479 0.01 500 2 500\n",
      "0.5713169206721376 0.01 500 2 1000\n",
      "0.6064703042008691 0.01 500 2 5000\n",
      "0.6064581231079716 0.01 500 2 10000\n",
      "0.47571679344645995 0.01 500 5 1\n",
      "0.44847837693539777 0.01 500 5 5\n",
      "0.44645229869784747 0.01 500 5 10\n",
      "0.4469304229195089 0.01 500 5 50\n",
      "0.45152198421645995 0.01 500 5 100\n",
      "0.45920941968040374 0.01 500 5 500\n",
      "0.4465468306527909 0.01 500 5 1000\n",
      "0.5651125401929261 0.01 500 5 5000\n",
      "0.5990566037735849 0.01 500 5 10000\n",
      "0.5004751346214761 0.01 1000 1 1\n",
      "0.44741057127602774 0.01 1000 1 5\n",
      "0.4771142770536526 0.01 1000 1 10\n",
      "0.46795646916565903 0.01 1000 1 50\n",
      "0.4467005076142132 0.01 1000 1 100\n",
      "0.5787094122482532 0.01 1000 1 500\n",
      "0.5998062015503877 0.01 1000 1 1000\n",
      "0.6057971014492753 0.01 1000 1 5000\n",
      "0.6009852216748768 0.01 1000 1 10000\n",
      "0.4417670682730924 0.01 1000 2 1\n",
      "0.4509169363538295 0.01 1000 2 5\n",
      "0.45320197044334976 0.01 1000 2 10\n",
      "0.45788712011577415 0.01 1000 2 50\n",
      "0.4484579049736037 0.01 1000 2 100\n",
      "0.5254788579689194 0.01 1000 2 500\n",
      "0.5009733939000649 0.01 1000 2 1000\n",
      "0.6026719445818901 0.01 1000 2 5000\n",
      "0.6058502726822013 0.01 1000 2 10000\n",
      "0.44871794871794873 0.01 1000 5 1\n",
      "0.44645229869784747 0.01 1000 5 5\n",
      "0.48419150858175247 0.01 1000 5 10\n",
      "0.44807280513918624 0.01 1000 5 50\n",
      "0.45497896213183725 0.01 1000 5 100\n",
      "0.46485411140583555 0.01 1000 5 500\n",
      "0.4437316225608126 0.01 1000 5 1000\n",
      "0.6057385759829967 0.01 1000 5 5000\n",
      "0.5983302411873841 0.01 1000 5 10000\n",
      "0.48016701461377875 0.01 5000 1 1\n",
      "0.4535911602209945 0.01 5000 1 5\n",
      "0.44633821571238347 0.01 5000 1 10\n",
      "0.47574039067422813 0.01 5000 1 50\n",
      "0.44797843665768194 0.01 5000 1 100\n",
      "0.5132438940488476 0.01 5000 1 500\n",
      "0.5506921062476619 0.01 5000 1 1000\n",
      "0.604495456719273 0.01 5000 1 5000\n",
      "0.6025641025641025 0.01 5000 1 10000\n",
      "0.5034101981162715 0.01 5000 2 1\n",
      "0.44645229869784747 0.01 5000 2 5\n",
      "0.46403184532271824 0.01 5000 2 10\n",
      "0.4632246899336602 0.01 5000 2 50\n",
      "0.45019262520638426 0.01 5000 2 100\n",
      "0.4831299353912418 0.01 5000 2 500\n",
      "0.4555770827567118 0.01 5000 2 1000\n",
      "0.6032064128256514 0.01 5000 2 5000\n",
      "0.6066398390342053 0.01 5000 2 10000\n",
      "0.44645229869784747 0.01 5000 5 1\n",
      "0.4471652914559489 0.01 5000 5 5\n",
      "0.4474034620505992 0.01 5000 5 10\n",
      "0.45170068027210875 0.01 5000 5 50\n",
      "0.4539473684210526 0.01 5000 5 100\n",
      "0.44710897948308026 0.01 5000 5 500\n",
      "0.44645229869784747 0.01 5000 5 1000\n",
      "0.5376576576576576 0.01 5000 5 5000\n",
      "0.5969479353680431 0.01 5000 5 10000\n",
      "0.21734104046242775 0.05 1 1 1\n",
      "0.5022566086395874 0.05 1 1 5\n",
      "0.5905750108084739 0.05 1 1 10\n",
      "0.5037277147487844 0.05 1 1 50\n",
      "0.5043873903152422 0.05 1 1 100\n",
      "0.4988892415106315 0.05 1 1 500\n",
      "0.5746835443037974 0.05 1 1 1000\n",
      "0.5614035087719298 0.05 1 1 5000\n",
      "0.6048646167966958 0.05 1 1 10000\n",
      "0.44645229869784747 0.05 1 2 1\n",
      "0.5039525691699605 0.05 1 2 5\n",
      "0.3155048076923077 0.05 1 2 10\n",
      "0.4959551960174237 0.05 1 2 50\n",
      "0.5473994835853929 0.05 1 2 100\n",
      "0.5492227979274611 0.05 1 2 500\n",
      "0.5342706502636203 0.05 1 2 1000\n",
      "0.44842801985659125 0.05 1 2 5000\n",
      "0.4727272727272727 0.05 1 2 10000\n",
      "0.38995815899581593 0.05 1 5 1\n",
      "0.5967885816235504 0.05 1 5 5\n",
      "0.5921397379912664 0.05 1 5 10\n",
      "0.5955555555555556 0.05 1 5 50\n",
      "0.5759674134419552 0.05 1 5 100\n",
      "0.5562403697996918 0.05 1 5 500\n",
      "0.5063704671675923 0.05 1 5 1000\n",
      "0.4837153196622436 0.05 1 5 5000\n",
      "0.44645229869784747 0.05 1 5 10000\n",
      "0.5639421196714899 0.05 5 1 1\n",
      "0.43573581803233763 0.05 5 1 5\n",
      "0.4819994049390062 0.05 5 1 10\n",
      "0.48860528714676393 0.05 5 1 50\n",
      "0.4970228768411156 0.05 5 1 100\n",
      "0.4607594936708861 0.05 5 1 500\n",
      "0.5471698113207547 0.05 5 1 1000\n",
      "0.5418265541059094 0.05 5 1 5000\n",
      "0.605552645364065 0.05 5 1 10000\n"
     ]
    },
    {
     "name": "stdout",
     "output_type": "stream",
     "text": [
      "0.5136186770428015 0.05 5 2 1\n",
      "0.4907153729071537 0.05 5 2 5\n",
      "0.44657097288676234 0.05 5 2 10\n",
      "0.44645229869784747 0.05 5 2 50\n",
      "0.4851217312894499 0.05 5 2 100\n",
      "0.4535969247666118 0.05 5 2 500\n",
      "0.4489460717218724 0.05 5 2 1000\n",
      "0.5211469534050179 0.05 5 2 5000\n",
      "0.4974554707379135 0.05 5 2 10000\n",
      "0.5219869706840391 0.05 5 5 1\n",
      "0.5723524656426839 0.05 5 5 5\n",
      "0.5047093212081845 0.05 5 5 10\n",
      "0.44645229869784747 0.05 5 5 50\n",
      "0.48410317936412717 0.05 5 5 100\n",
      "0.4933703361085415 0.05 5 5 500\n",
      "0.46045197740113 0.05 5 5 1000\n",
      "0.44645229869784747 0.05 5 5 5000\n",
      "0.44551282051282054 0.05 5 5 10000\n",
      "0.31212121212121213 0.05 10 1 1\n",
      "0.5053939195815627 0.05 10 1 5\n",
      "0.49780839073262373 0.05 10 1 10\n",
      "0.4755776542848787 0.05 10 1 50\n",
      "0.4467629748528625 0.05 10 1 100\n",
      "0.4483221476510067 0.05 10 1 500\n",
      "0.5045811518324607 0.05 10 1 1000\n",
      "0.48972077324332614 0.05 10 1 5000\n",
      "0.5825491873396065 0.05 10 1 10000\n",
      "0.452051073077968 0.05 10 2 1\n",
      "0.5012722646310434 0.05 10 2 5\n",
      "0.5030635278942277 0.05 10 2 10\n",
      "0.4959349593495935 0.05 10 2 50\n",
      "0.44645229869784747 0.05 10 2 100\n",
      "0.4529558701082431 0.05 10 2 500\n",
      "0.4638761467889909 0.05 10 2 1000\n",
      "0.44645229869784747 0.05 10 2 5000\n",
      "0.4710982658959537 0.05 10 2 10000\n",
      "0.24890829694323144 0.05 10 5 1\n",
      "0.49171270718232046 0.05 10 5 5\n",
      "0.5022364217252395 0.05 10 5 10\n",
      "0.4849759615384616 0.05 10 5 50\n",
      "0.48128342245989303 0.05 10 5 100\n",
      "0.47242275483684665 0.05 10 5 500\n",
      "0.4508419337316676 0.05 10 5 1000\n",
      "0.49780182617517754 0.05 10 5 5000\n",
      "0.4279962836791577 0.05 10 5 10000\n",
      "0.46100719424460435 0.05 50 1 1\n",
      "0.4944512946979038 0.05 50 1 5\n",
      "0.44657097288676234 0.05 50 1 10\n",
      "0.4880266747499242 0.05 50 1 50\n",
      "0.47287735849056606 0.05 50 1 100\n",
      "0.43955446889432215 0.05 50 1 500\n",
      "0.46370287000562743 0.05 50 1 1000\n",
      "0.5009584664536741 0.05 50 1 5000\n",
      "0.6106577052328374 0.05 50 1 10000\n",
      "0.49019607843137253 0.05 50 2 1\n",
      "0.5076572173346366 0.05 50 2 5\n",
      "0.5064850843060961 0.05 50 2 10\n",
      "0.44645229869784747 0.05 50 2 50\n",
      "0.4568275862068966 0.05 50 2 100\n",
      "0.4588471465443074 0.05 50 2 500\n",
      "0.44899087641692015 0.05 50 2 1000\n",
      "0.5623430962343096 0.05 50 2 5000\n",
      "0.49546449796684394 0.05 50 2 10000\n",
      "0.5705215419501134 0.05 50 5 1\n",
      "0.4917330067360686 0.05 50 5 5\n",
      "0.4909923664122137 0.05 50 5 10\n",
      "0.44657097288676234 0.05 50 5 50\n",
      "0.4815695600475624 0.05 50 5 100\n",
      "0.4515954570037858 0.05 50 5 500\n",
      "0.4672249494657811 0.05 50 5 1000\n",
      "0.4482658117167006 0.05 50 5 5000\n",
      "0.4510546241211466 0.05 50 5 10000\n",
      "0.4544910179640718 0.05 100 1 1\n",
      "0.45457025920873123 0.05 100 1 5\n",
      "0.47893961708394694 0.05 100 1 10\n",
      "0.44610458911419426 0.05 100 1 50\n",
      "0.44605475040257647 0.05 100 1 100\n",
      "0.45089527943570257 0.05 100 1 500\n",
      "0.452760736196319 0.05 100 1 1000\n",
      "0.5700444085587404 0.05 100 1 5000\n",
      "0.6043613707165107 0.05 100 1 10000\n",
      "0.4456462952947539 0.05 100 2 1\n",
      "0.49126034958601655 0.05 100 2 5\n",
      "0.44639531790369774 0.05 100 2 10\n",
      "0.44736137155103134 0.05 100 2 50\n",
      "0.48189164920682426 0.05 100 2 100\n",
      "0.45280960174577195 0.05 100 2 500\n",
      "0.4444444444444444 0.05 100 2 1000\n",
      "0.44681418288456404 0.05 100 2 5000\n",
      "0.593850390087196 0.05 100 2 10000\n",
      "0.5095108695652174 0.05 100 5 1\n",
      "0.5615533980582524 0.05 100 5 5\n",
      "0.4828409430020889 0.05 100 5 10\n",
      "0.44645229869784747 0.05 100 5 50\n",
      "0.47593896713615025 0.05 100 5 100\n",
      "0.4536882972823073 0.05 100 5 500\n",
      "0.46603716113310995 0.05 100 5 1000\n",
      "0.4439292958562736 0.05 100 5 5000\n",
      "0.44645229869784747 0.05 100 5 10000\n",
      "0.17829457364341084 0.05 500 1 1\n",
      "0.4945770065075922 0.05 500 1 5\n",
      "0.5012626262626263 0.05 500 1 10\n",
      "0.44426666666666664 0.05 500 1 50\n",
      "0.47045055588063195 0.05 500 1 100\n",
      "0.44845222072678337 0.05 500 1 500\n",
      "0.4455639518611811 0.05 500 1 1000\n",
      "0.4945617402431222 0.05 500 1 5000\n",
      "0.5964585274930102 0.05 500 1 10000\n",
      "0.54632972322503 0.05 500 2 1\n",
      "0.49141104294478527 0.05 500 2 5\n",
      "0.44645229869784747 0.05 500 2 10\n",
      "0.48466443972061946 0.05 500 2 50\n",
      "0.4842748091603053 0.05 500 2 100\n",
      "0.4457241577886553 0.05 500 2 500\n",
      "0.44493030882754847 0.05 500 2 1000\n",
      "0.493784826403772 0.05 500 2 5000\n",
      "0.5834797891036907 0.05 500 2 10000\n",
      "0.5965417867435159 0.05 500 5 1\n",
      "0.44657097288676234 0.05 500 5 5\n",
      "0.4474034620505992 0.05 500 5 10\n",
      "0.4909923664122137 0.05 500 5 50\n",
      "0.4471652914559489 0.05 500 5 100\n",
      "0.4498614958448753 0.05 500 5 500\n",
      "0.44587352625937837 0.05 500 5 1000\n",
      "0.523961661341853 0.05 500 5 5000\n",
      "0.491010134030729 0.05 500 5 10000\n",
      "0.5640232108317215 0.05 1000 1 1\n",
      "0.48837209302325574 0.05 1000 1 5\n",
      "0.5007933989209774 0.05 1000 1 10\n",
      "0.4594820384294068 0.05 1000 1 50\n",
      "0.4543678481719229 0.05 1000 1 100\n",
      "0.4561505065123011 0.05 1000 1 500\n",
      "0.44634276561665776 0.05 1000 1 1000\n",
      "0.4958834705509816 0.05 1000 1 5000\n",
      "0.60440097799511 0.05 1000 1 10000\n",
      "0.3727891156462585 0.05 1000 2 1\n",
      "0.49142156862745096 0.05 1000 2 5\n",
      "0.4656682678722803 0.05 1000 2 10\n",
      "0.4495708154506438 0.05 1000 2 50\n",
      "0.44710897948308026 0.05 1000 2 100\n",
      "0.4654195011337869 0.05 1000 2 500\n",
      "0.438496583143508 0.05 1000 2 1000\n",
      "0.556167867740568 0.05 1000 2 5000\n",
      "0.5897903372835005 0.05 1000 2 10000\n",
      "0.4357650096836669 0.05 1000 5 1\n",
      "0.4973445798188066 0.05 1000 5 5\n",
      "0.4918836140888208 0.05 1000 5 10\n",
      "0.4476418864908074 0.05 1000 5 50\n",
      "0.4475374732334047 0.05 1000 5 100\n",
      "0.4476475387544193 0.05 1000 5 500\n",
      "0.44885906040268453 0.05 1000 5 1000\n",
      "0.44619994551893216 0.05 1000 5 5000\n",
      "0.45004555116914663 0.05 1000 5 10000\n",
      "0.33075630252100835 0.05 5000 1 1\n",
      "0.2263374485596708 0.05 5000 1 5\n",
      "0.4466897101834618 0.05 5000 1 10\n",
      "0.4769503546099291 0.05 5000 1 50\n",
      "0.48065948002536457 0.05 5000 1 100\n",
      "0.448837830617152 0.05 5000 1 500\n",
      "0.44871794871794873 0.05 5000 1 1000\n",
      "0.574142916150351 0.05 5000 1 5000\n",
      "0.5926251097453907 0.05 5000 1 10000\n",
      "0.5581754928488597 0.05 5000 2 1\n",
      "0.32815301852958756 0.05 5000 2 5\n",
      "0.44645229869784747 0.05 5000 2 10\n",
      "0.4761343547436653 0.05 5000 2 50\n",
      "0.459731543624161 0.05 5000 2 100\n",
      "0.4742636120202321 0.05 5000 2 500\n",
      "0.44551282051282054 0.05 5000 2 1000\n",
      "0.51138353765324 0.05 5000 2 5000\n",
      "0.5379656160458453 0.05 5000 2 10000\n",
      "0.5893719806763286 0.05 5000 5 1\n",
      "0.491743119266055 0.05 5000 5 5\n",
      "0.488336867615874 0.05 5000 5 10\n",
      "0.44657097288676234 0.05 5000 5 50\n",
      "0.44645229869784747 0.05 5000 5 100\n",
      "0.45472496473906904 0.05 5000 5 500\n",
      "0.4539944903581268 0.05 5000 5 1000\n",
      "0.44414751469802244 0.05 5000 5 5000\n",
      "0.444384303112314 0.05 5000 5 10000\n"
     ]
    }
   ],
   "source": [
    "scale_features_std = StandardScaler()\n",
    "X_train=scale_features_std.fit_transform(X_train)\n",
    "X_train2, X_test2, y_train2, y_test2 = train_test_split(X_train, y_train, stratify=y_train)\n",
    "al=[0.01, 0.05]\n",
    "Cs=[1, 5, 10, 50, 100, 500, 1000, 5000]\n",
    "epoch=[1, 2, 5]\n",
    "batchs=[1, 5, 10, 50, 100, 500, 1000, 5000, 10000]\n",
    "for a in al:\n",
    "    for ci in Cs:\n",
    "        for e in epoch:\n",
    "            for batch in batchs:\n",
    "                myclf4 = MySGDClassifier(batch_generator, alpha=a, C=ci,max_epoch=e, model_type='lin_reg', batch_size=batch)\n",
    "#print(np.mean(cross_val_score(myclf4, X_train, y_train, cv=50)))\n",
    "                myclf4.fit(X_train2, y_train2)\n",
    "                print(f1_score(y_test2, myclf4.predict(X_test2)), a, ci, e, batch)"
   ]
  },
  {
   "cell_type": "code",
   "execution_count": 84,
   "metadata": {},
   "outputs": [
    {
     "name": "stdout",
     "output_type": "stream",
     "text": [
      "0.6044273339749759\n",
      "0.7187820732124529\n",
      "0.7273860960610841\n"
     ]
    }
   ],
   "source": [
    "X_train=scale_features_std.fit_transform(X_train)\n",
    "X_train2, X_test2, y_train2, y_test2 = train_test_split(X_train, y_train, stratify=y_train)\n",
    "myclf4 = MySGDClassifier(batch_generator, alpha=1, C=500,max_epoch=1, model_type='log_reg', batch_size=5000)\n",
    "myclf4.fit(X_train2, y_train2)\n",
    "print(f1_score(y_test2, myclf4.predict(X_test2)))\n",
    "print(accuracy_score(y_test2, myclf4.predict(X_test2)))\n",
    "print(roc_auc_score(y_test2, myclf4.predict(X_test2)))"
   ]
  },
  {
   "cell_type": "code",
   "execution_count": 85,
   "metadata": {},
   "outputs": [
    {
     "name": "stdout",
     "output_type": "stream",
     "text": [
      "0.786520697913103\n",
      "0.5322338830584707\n",
      "0.6779441853553712\n"
     ]
    },
    {
     "name": "stderr",
     "output_type": "stream",
     "text": [
      "C:\\Users\\vkrin\\Anaconda3\\lib\\site-packages\\sklearn\\linear_model\\logistic.py:433: FutureWarning: Default solver will be changed to 'lbfgs' in 0.22. Specify a solver to silence this warning.\n",
      "  FutureWarning)\n"
     ]
    }
   ],
   "source": [
    "logr=LogisticRegression()\n",
    "logr.fit(X_train2, y_train2)\n",
    "print(logr.score(X_test2, y_test2))\n",
    "print(f1_score(y_test2, logr.predict(X_test2)))\n",
    "print(roc_auc_score(y_test2, logr.predict(X_test2)))"
   ]
  },
  {
   "cell_type": "code",
   "execution_count": 86,
   "metadata": {},
   "outputs": [],
   "source": [
    "import pandas as pd\n",
    "test_data = pd.read_csv('test_groups.csv')\n",
    "testgroups_titledata = {}\n",
    "for i in range(len(test_data)):\n",
    "    new_doc = test_data.iloc[i]\n",
    "    doc_group = new_doc['group_id']\n",
    "    doc_id = new_doc['doc_id']\n",
    "    pair_id = new_doc['pair_id']\n",
    "    title = doc_to_title[doc_id]\n",
    "    if doc_group not in testgroups_titledata:\n",
    "        testgroups_titledata[doc_group] = []\n",
    "    testgroups_titledata[doc_group].append((doc_id, title, pair_id))\n"
   ]
  },
  {
   "cell_type": "code",
   "execution_count": 87,
   "metadata": {},
   "outputs": [
    {
     "name": "stdout",
     "output_type": "stream",
     "text": [
      "(16627, 15) (16627,)\n"
     ]
    }
   ],
   "source": [
    "X_test = []\n",
    "y_test = []\n",
    "groups_test = []\n",
    "for new_group in testgroups_titledata:\n",
    "    docs = testgroups_titledata[new_group]\n",
    "    for k, (doc_id, title_j, pair_id) in enumerate(docs):\n",
    "        groups_test.append(new_group)\n",
    "        all_dist = []\n",
    "        words = set(title.strip().split())\n",
    "        for j in range(0, len(docs)):\n",
    "            if k == j:\n",
    "                continue\n",
    "            doc_id_j, title_j, pair_id = docs[j]\n",
    "            words_j = set(title_j.strip().split())\n",
    "            all_dist.append(len(words.intersection(words_j)))\n",
    "        X_test.append(sorted(all_dist, reverse=True)[0:15]    )\n",
    "X_test = np.array(X_test)\n",
    "groups_test = np.array(groups_test)\n",
    "print (X_test.shape, groups_test.shape)"
   ]
  },
  {
   "cell_type": "code",
   "execution_count": 88,
   "metadata": {},
   "outputs": [
    {
     "name": "stderr",
     "output_type": "stream",
     "text": [
      "C:\\Users\\vkrin\\Anaconda3\\lib\\site-packages\\sklearn\\utils\\validation.py:595: DataConversionWarning: Data with input dtype int32 was converted to float64 by StandardScaler.\n",
      "  warnings.warn(msg, DataConversionWarning)\n",
      "C:\\Users\\vkrin\\Anaconda3\\lib\\site-packages\\sklearn\\utils\\validation.py:595: DataConversionWarning: Data with input dtype int32 was converted to float64 by StandardScaler.\n",
      "  warnings.warn(msg, DataConversionWarning)\n"
     ]
    }
   ],
   "source": [
    "X_test=scale_features_std.fit_transform(X_test)\n",
    "res = myclf4.predict(X_test)"
   ]
  },
  {
   "cell_type": "code",
   "execution_count": 90,
   "metadata": {},
   "outputs": [],
   "source": [
    "file = open(\"out.csv\", \"wb\")\n",
    "file.write( bytes(str(\"pair_id,target\\n\"), \"utf-8\"))\n",
    "for new_group in testgroups_titledata:\n",
    "    docs = testgroups_titledata[new_group]\n",
    "\n",
    "    for k, (doc_id, title, pair_id) in enumerate(docs):\n",
    "        all_dist = []\n",
    "        #rint(pair_id,res[pair_id-11691])\n",
    "        file.write(bytes(str(pair_id) + \",\" +str(res[pair_id-11691]) + str(\"\\n\"), \"utf-8\"))\n",
    "file.close()"
   ]
  },
  {
   "cell_type": "markdown",
   "metadata": {},
   "source": [
    "С лучшими параметрами на валидации сделайте предсказание на тестовом множестве, отправьте его на проверку на платформу kaggle. Убедитесь, что Вы смогли побить public score первого бейзлайна. Если да, то Вы молодец!"
   ]
  },
  {
   "cell_type": "code",
   "execution_count": null,
   "metadata": {},
   "outputs": [],
   "source": []
  },
  {
   "cell_type": "markdown",
   "metadata": {},
   "source": [
    "# Контрольные вопросы\n",
    "Постарайтесь максимально развернуто и честно ответить на вопросы. Они охватывают тему линейных моделей и скорее нужны преподавателям, чтобы понимать, что именно Вы усвоили плохо. Надеюсь, они подскажут, что именно в теме Вы не понимаете или наоборот порадают, что Вы все знаете ^_^"
   ]
  },
  {
   "cell_type": "markdown",
   "metadata": {},
   "source": [
    "* Опишите основные, на Ваш взгляд,  отличия логистической регрессии от линейной регрессии. Почему, на ваш взгляд, задачу классификации решают логистической, а не линейной регрессией?"
   ]
  },
  {
   "cell_type": "markdown",
   "metadata": {},
   "source": [
    "***Ваше ответ здесь*** :\n",
    "В линейной регрессии мы с помощью знака скалярного произведения решаем, принадлежит ли объект классу. В логистической регрессии мы получаем число от 0 до 1, которое расцениваем как вероятность того что объект принадлежит какому-то конкретному классу.  Решать задачи классификации с помощью логистической регрессии лучше, потому что мы можем учитывать вероятность как хотим, со сколь угодно большого (или не очень) порога считать принадлежность объекта классу."
   ]
  },
  {
   "cell_type": "markdown",
   "metadata": {},
   "source": [
    "* Как Вы думаете, для каких типов задач (объем данных, число признаков, типы признаков) стоит отдавать предпочтение линейным моделям?"
   ]
  },
  {
   "cell_type": "markdown",
   "metadata": {},
   "source": [
    "***Ваше ответ здесь*** :\n",
    "Линейные модели подойдут, объем данных ограничен, а число признаков большое и они вещественные и линейно независимые."
   ]
  },
  {
   "cell_type": "markdown",
   "metadata": {},
   "source": [
    "* Пусть на обучении мы имеем выборку размера $N$, число признаков $D$. Чему равна алгоритмическая сложность одного шага градиентного спуска? Cтохастического градиентного спуска?  Сложность предсказания на одном объекте?"
   ]
  },
  {
   "cell_type": "markdown",
   "metadata": {},
   "source": [
    "***Ваше ответ здесь*** : \n",
    "\n",
    "Градиентный спуск:  $𝑂(𝑁∗𝐷) $\n",
    "\n",
    "Стохастический градиентный спуск: $ 𝑂(𝑏𝑎𝑡𝑐ℎ𝑆𝑖𝑧𝑒∗𝐷) $\n",
    "\n",
    "Сложность предсказания на одном объекте:$ 𝑂(𝐷)$"
   ]
  },
  {
   "cell_type": "markdown",
   "metadata": {},
   "source": [
    "* В чем преимущества стохастического градиентного спуска (в том числе мини-батч) над обычным градиентным спуском? В чем его недостатки? Рассмотрите несколько аспектов $-$ скорость сходимости, необходимость загрузки всех данных в оперативную память, сложность вычисления одного шага."
   ]
  },
  {
   "cell_type": "markdown",
   "metadata": {},
   "source": [
    "***Ваше ответ здесь*** : С помощью стохастического градиентного спуска можно не загружать все в оперативную память. Также он сходится быстрее обычного градиентного спуска, но иногда может страдать качество обучения(редко)."
   ]
  },
  {
   "cell_type": "markdown",
   "metadata": {},
   "source": [
    "* Как Вы думаете, при обучении линейной модели с помощью SGD, ошибку на новом объекте стоит считать до итерации спуска на этом объекте или после? Почему Вы так думаете? Возможно, Вам будет интересно ознакомиться с http://hunch.net/~jl/projects/prediction_bounds/thesis/mathml/thesisse44.xml"
   ]
  },
  {
   "cell_type": "markdown",
   "metadata": {},
   "source": [
    "***Ваше ответ здесь*** : Ошибку на новом объекте стоит считать до итерации спуска на этом объекте. Интуитивно..."
   ]
  },
  {
   "cell_type": "markdown",
   "metadata": {},
   "source": [
    "* Как Вы думаете, во времена такого бума нейронных сетей, остаются ли популярными линейные модели, или это уже пережиток прошлого? Почему Вы так думаете?"
   ]
  },
  {
   "cell_type": "markdown",
   "metadata": {},
   "source": [
    "***Ваше ответ здесь*** : Линейные модели просты в понимании, поэтому изучение мы начинаем с них. Их можно использовать когда мало объектов, но много признаков. "
   ]
  },
  {
   "cell_type": "markdown",
   "metadata": {},
   "source": [
    "* Какие аспекты обучения линейных моделей Вам показались непонятными? Какое место стоит дополнительно объяснить?"
   ]
  },
  {
   "cell_type": "markdown",
   "metadata": {},
   "source": [
    "***Ваше ответ здесь*** : какой score считается приемлимым после обучения этих моделей(для разных видов score)"
   ]
  },
  {
   "cell_type": "markdown",
   "metadata": {},
   "source": [
    "Здесь Вы можете оставить отзыв о этой домашней работе или о всем курсе.   "
   ]
  },
  {
   "cell_type": "markdown",
   "metadata": {},
   "source": [
    "*** ВАШ ОТЗЫВ ЗДЕСЬ***"
   ]
  },
  {
   "cell_type": "code",
   "execution_count": null,
   "metadata": {
    "collapsed": true
   },
   "outputs": [],
   "source": []
  },
  {
   "cell_type": "code",
   "execution_count": null,
   "metadata": {
    "collapsed": true
   },
   "outputs": [],
   "source": []
  }
 ],
 "metadata": {
  "anaconda-cloud": {},
  "kernelspec": {
   "display_name": "Python 3",
   "language": "python",
   "name": "python3"
  },
  "language_info": {
   "codemirror_mode": {
    "name": "ipython",
    "version": 3
   },
   "file_extension": ".py",
   "mimetype": "text/x-python",
   "name": "python",
   "nbconvert_exporter": "python",
   "pygments_lexer": "ipython3",
   "version": "3.7.1"
  },
  "nav_menu": {},
  "toc": {
   "colors": {
    "hover_highlight": "#DAA520",
    "navigate_num": "#000000",
    "navigate_text": "#333333",
    "running_highlight": "#FF0000",
    "selected_highlight": "#FFD700",
    "sidebar_border": "#EEEEEE",
    "wrapper_background": "#FFFFFF"
   },
   "moveMenuLeft": true,
   "nav_menu": {
    "height": "402px",
    "width": "253px"
   },
   "navigate_menu": true,
   "number_sections": false,
   "sideBar": true,
   "threshold": 4,
   "toc_cell": false,
   "toc_section_display": "block",
   "toc_window_display": true,
   "widenNotebook": false
  }
 },
 "nbformat": 4,
 "nbformat_minor": 2
}
