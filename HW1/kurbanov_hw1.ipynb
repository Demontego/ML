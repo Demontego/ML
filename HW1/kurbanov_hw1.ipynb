{
 "cells": [
  {
   "cell_type": "markdown",
   "metadata": {},
   "source": [
    "**Общая информация** (Курбанов Ринат)\n",
    "\n",
    "**Срок сдачи:** 20 марта 2019, 06:00 <br\\>\n",
    "**Штраф за опоздание:** -1 балл после 06:00 20 марта, -2 балла после 06:00 27 марта, -3 балла после 06:00 3 апреля\n",
    "\n",
    "При отправлении ДЗ указывайте фамилию в названии файла\n",
    "Присылать ДЗ необходимо в виде ссылки на свой github репозиторий в slack @alkhamush\n",
    "\n",
    "Необходимо в slack скинуть ссылку в личный чат @alkhamush\n",
    "Пример ссылки:\n",
    "https://github.com/stroykova/spheremailru/stroykova_hw1.ipynb \n",
    "\n",
    "\n",
    "Используйте данный Ipython Notebook при оформлении домашнего задания."
   ]
  },
  {
   "cell_type": "markdown",
   "metadata": {},
   "source": [
    "###### Задание 1 (2 баллов)\n",
    "Реализовать KNN в классе MyKNeighborsClassifier (обязательное условие: точность не ниже sklearn реализации)\n",
    "Разберитесь самостоятельно, какая мера расстояния используется в KNeighborsClassifier дефолтно и реализуйте свой алгоритм именно с этой мерой. Самостоятельно разберитесь, как считается score из KNeighborsClassifier и реализуйте аналог в своём классе. Score не должен уступать значению KNN из sklearn\n",
    "\n",
    "###### Задание 2 (2 балла)\n",
    "Добиться скорости работы на fit,  predict и predict_proba сравнимой со sklearn для iris и mnist\n",
    "Для этого используем numpy\n",
    "\n",
    "###### Задание 3 (2 балла)\n",
    "Для iris найдите такой параметр n_neighbors, при котором выдаётся наилучший score. Нарисуйте график зависимости score от n_neighbors\n",
    "\n",
    "###### Задание 4 (3 балла)\n",
    "Добавить algorithm='kd_tree' в реализацию KNN (использовать KDTree из sklearn.neighbors). Значение n_neighbors нужно взять из задания 3. Добиться скорости работы на fit,  predict и predict_proba сравнимой со sklearn для iris и mnist\n",
    "Для этого используем numpy. Score не должен уступать значению KNN из sklearn\n",
    "\n",
    "###### Задание 5 (1 балла)\n",
    "Описать для чего нужны следующие библиотеки/классы/функции (список будет ниже)\n",
    "\n",
    "**Штрафные баллы:**\n",
    "\n",
    "1. Невыполнение PEP8 -1 балл\n",
    "2. Отсутствие фамилии в имени скрипта (скрипт должен называться по аналогии со stroykova_hw1.ipynb) -1 балл\n",
    "3. Все строчки должны быть выполнены. Нужно, чтобы output команды можно было увидеть уже в git'е. В противном случае -1 балл\n",
    "4. При оформлении ДЗ нужно пользоваться данным файлом в качестве шаблона. Не нужно удалять и видоизменять структуру кода и текст. В противном случае -1 балл\n"
   ]
  },
  {
   "cell_type": "code",
   "execution_count": 14,
   "metadata": {},
   "outputs": [],
   "source": [
    "import numpy as np\n",
    "import matplotlib.pyplot as plt\n",
    "\n",
    "import seaborn as sns\n",
    "from sklearn import datasets\n",
    "from sklearn.base import ClassifierMixin\n",
    "from sklearn.datasets import fetch_mldata\n",
    "from sklearn.neighbors.base import NeighborsBase, KNeighborsMixin, SupervisedIntegerMixin \n",
    "from sklearn.model_selection import train_test_split\n",
    "from sklearn.neighbors import KNeighborsClassifier\n",
    "from sklearn.neighbors import KDTree\n",
    "from scipy.spatial.distance import cdist\n",
    "from sklearn import metrics\n",
    "from mlxtend.data import loadlocal_mnist\n",
    "#%load_ext pycodestyle_magic"
   ]
  },
  {
   "cell_type": "code",
   "execution_count": 54,
   "metadata": {},
   "outputs": [],
   "source": [
    "#%%pycodestyle\n",
    "class MyKNeighborsClassifier(NeighborsBase, KNeighborsMixin, SupervisedIntegerMixin, ClassifierMixin):\n",
    "    \n",
    "    def __init__(self, n_neighbors, algorithm='brute'):\n",
    "        self.n_neighbors=n_neighbors;\n",
    "        self.algorithm=algorithm;\n",
    "    \n",
    "    def fit(self, X, y):\n",
    "        self.X_tr=np.array(X).astype(float);\n",
    "        self.y_tr=np.array(y).astype(int)\n",
    "        self.classes_number = len(np.unique(y))\n",
    "        if self.algorithm == 'kd_tree':\n",
    "            self.kd_tree = KDTree(self.X_tr)\n",
    "    \n",
    "    def predict(self, X):\n",
    "        if self.algorithm == 'brute':\n",
    "            dist = metrics.pairwise_distances(np.array(X).astype(float), self.X_tr)\n",
    "            #dist = cdist(np.array(X).astype(float),self.X_tr, metric='minkowski') долго\n",
    "            self.ind = dist.argpartition(self.n_neighbors)[:, :self.n_neighbors]\n",
    "        elif self.algorithm == 'kd_tree':\n",
    "            self.ind = self.kd_tree.query(np.array(X).astype(float), k = self.n_neighbors)[1]\n",
    "        return np.apply_along_axis(lambda x: np.bincount(x).argmax(), 1, self.y_tr[self.ind])\n",
    "    \n",
    "    def predict_proba(self, X):\n",
    "        if self.algorithm == 'brute':\n",
    "            dist = metrics.pairwise_distances(np.array(X).astype(float), self.X_tr)\n",
    "            #dist = cdist(np.array(X).astype(float),self.X_tr, metric='minkowski') долго\n",
    "            self.ind = dist.argpartition(self.n_neighbors)[:, :self.n_neighbors]\n",
    "        elif self.algorithm == 'kd_tree':\n",
    "            self.ind = self.kd_tree.query(np.array(X).astype(float), k = self.n_neighbors)[1]\n",
    "        return np.apply_along_axis(lambda k: np.bincount(k,\n",
    "                                            minlength=self.classes_number) / self.n_neighbors,\n",
    "                                   1, self.y_tr[self.ind])\n",
    "            \n",
    "    \n",
    "    def score(self, X, y):\n",
    "        return (self.predict(X.astype(float))==y.astype(int)).mean()"
   ]
  },
  {
   "cell_type": "markdown",
   "metadata": {},
   "source": [
    "**IRIS**"
   ]
  },
  {
   "cell_type": "code",
   "execution_count": 16,
   "metadata": {},
   "outputs": [],
   "source": [
    "iris = datasets.load_iris()"
   ]
  },
  {
   "cell_type": "code",
   "execution_count": 17,
   "metadata": {},
   "outputs": [],
   "source": [
    "X_train, X_test, y_train, y_test = train_test_split(iris.data, iris.target, test_size=0.1, stratify=iris.target)"
   ]
  },
  {
   "cell_type": "code",
   "execution_count": 18,
   "metadata": {},
   "outputs": [],
   "source": [
    "clf = KNeighborsClassifier(n_neighbors=2)\n",
    "my_clf = MyKNeighborsClassifier(n_neighbors=2)"
   ]
  },
  {
   "cell_type": "code",
   "execution_count": 19,
   "metadata": {},
   "outputs": [
    {
     "name": "stdout",
     "output_type": "stream",
     "text": [
      "Wall time: 992 µs\n"
     ]
    },
    {
     "data": {
      "text/plain": [
       "KNeighborsClassifier(algorithm='auto', leaf_size=30, metric='minkowski',\n",
       "           metric_params=None, n_jobs=None, n_neighbors=2, p=2,\n",
       "           weights='uniform')"
      ]
     },
     "execution_count": 19,
     "metadata": {},
     "output_type": "execute_result"
    }
   ],
   "source": [
    "%time clf.fit(X_train, y_train)"
   ]
  },
  {
   "cell_type": "code",
   "execution_count": 20,
   "metadata": {},
   "outputs": [
    {
     "name": "stdout",
     "output_type": "stream",
     "text": [
      "Wall time: 0 ns\n"
     ]
    }
   ],
   "source": [
    "%time my_clf.fit(X_train, y_train)"
   ]
  },
  {
   "cell_type": "code",
   "execution_count": 21,
   "metadata": {},
   "outputs": [
    {
     "name": "stdout",
     "output_type": "stream",
     "text": [
      "Wall time: 0 ns\n"
     ]
    },
    {
     "data": {
      "text/plain": [
       "array([2, 0, 2, 1, 0, 1, 0, 2, 0, 2, 2, 0, 2, 1, 2])"
      ]
     },
     "execution_count": 21,
     "metadata": {},
     "output_type": "execute_result"
    }
   ],
   "source": [
    "%time clf.predict(X_test)"
   ]
  },
  {
   "cell_type": "code",
   "execution_count": 22,
   "metadata": {},
   "outputs": [
    {
     "name": "stdout",
     "output_type": "stream",
     "text": [
      "Wall time: 972 µs\n"
     ]
    },
    {
     "data": {
      "text/plain": [
       "array([2, 0, 2, 1, 0, 1, 0, 2, 0, 2, 2, 0, 2, 1, 2], dtype=int64)"
      ]
     },
     "execution_count": 22,
     "metadata": {},
     "output_type": "execute_result"
    }
   ],
   "source": [
    "%time my_clf.predict(X_test)"
   ]
  },
  {
   "cell_type": "code",
   "execution_count": 23,
   "metadata": {},
   "outputs": [
    {
     "name": "stdout",
     "output_type": "stream",
     "text": [
      "Wall time: 997 µs\n"
     ]
    },
    {
     "data": {
      "text/plain": [
       "array([[0., 0., 1.],\n",
       "       [1., 0., 0.],\n",
       "       [0., 0., 1.],\n",
       "       [0., 1., 0.],\n",
       "       [1., 0., 0.],\n",
       "       [0., 1., 0.],\n",
       "       [1., 0., 0.],\n",
       "       [0., 0., 1.],\n",
       "       [1., 0., 0.],\n",
       "       [0., 0., 1.],\n",
       "       [0., 0., 1.],\n",
       "       [1., 0., 0.],\n",
       "       [0., 0., 1.],\n",
       "       [0., 1., 0.],\n",
       "       [0., 0., 1.]])"
      ]
     },
     "execution_count": 23,
     "metadata": {},
     "output_type": "execute_result"
    }
   ],
   "source": [
    "%time clf.predict_proba(X_test)"
   ]
  },
  {
   "cell_type": "code",
   "execution_count": 24,
   "metadata": {},
   "outputs": [
    {
     "name": "stdout",
     "output_type": "stream",
     "text": [
      "Wall time: 1 ms\n"
     ]
    },
    {
     "data": {
      "text/plain": [
       "array([[0., 0., 1.],\n",
       "       [1., 0., 0.],\n",
       "       [0., 0., 1.],\n",
       "       [0., 1., 0.],\n",
       "       [1., 0., 0.],\n",
       "       [0., 1., 0.],\n",
       "       [1., 0., 0.],\n",
       "       [0., 0., 1.],\n",
       "       [1., 0., 0.],\n",
       "       [0., 0., 1.],\n",
       "       [0., 0., 1.],\n",
       "       [1., 0., 0.],\n",
       "       [0., 0., 1.],\n",
       "       [0., 1., 0.],\n",
       "       [0., 0., 1.]])"
      ]
     },
     "execution_count": 24,
     "metadata": {},
     "output_type": "execute_result"
    }
   ],
   "source": [
    "%time my_clf.predict_proba(X_test)"
   ]
  },
  {
   "cell_type": "code",
   "execution_count": 25,
   "metadata": {},
   "outputs": [
    {
     "data": {
      "text/plain": [
       "0.8666666666666667"
      ]
     },
     "execution_count": 25,
     "metadata": {},
     "output_type": "execute_result"
    }
   ],
   "source": [
    "clf.score(X_test, y_test)"
   ]
  },
  {
   "cell_type": "code",
   "execution_count": 26,
   "metadata": {},
   "outputs": [
    {
     "data": {
      "text/plain": [
       "0.8666666666666667"
      ]
     },
     "execution_count": 26,
     "metadata": {},
     "output_type": "execute_result"
    }
   ],
   "source": [
    "my_clf.score(X_test, y_test)"
   ]
  },
  {
   "cell_type": "markdown",
   "metadata": {},
   "source": [
    "Задание 3"
   ]
  },
  {
   "cell_type": "code",
   "execution_count": 27,
   "metadata": {},
   "outputs": [
    {
     "name": "stdout",
     "output_type": "stream",
     "text": [
      "Best is 19\n"
     ]
    },
    {
     "data": {
      "image/png": "[encoded data removed]",
      "text/plain": [
       "<Figure size 432x288 with 1 Axes>"
      ]
     },
     "metadata": {
      "needs_background": "light"
     },
     "output_type": "display_data"
    }
   ],
   "source": [
    "num_tests=100\n",
    "max_n=50\n",
    "res = []\n",
    "for i in range(1, max_n):\n",
    "    cur_res = []\n",
    "    for j in range(num_tests):\n",
    "        X_train, X_test, y_train, y_test = train_test_split(\n",
    "            iris.data, iris.target, test_size = 0.1,\n",
    "            stratify = iris.target)\n",
    "        my_clf = MyKNeighborsClassifier(n_neighbors=i)\n",
    "        my_clf.fit(X_train, y_train)\n",
    "        cur_res.append(my_clf.score(X_test, y_test))\n",
    "    res.append(np.mean(cur_res))\n",
    "best = np.argmax(res)+1\n",
    "print(\"Best is {}\".format(best))\n",
    "plt.plot(range(1, max_n), res)\n",
    "plt.show()"
   ]
  },
  {
   "cell_type": "markdown",
   "metadata": {},
   "source": [
    "**MNIST**"
   ]
  },
  {
   "cell_type": "code",
   "execution_count": 28,
   "metadata": {},
   "outputs": [],
   "source": [
    "X, y = loadlocal_mnist(\n",
    "        images_path='train-images.idx3-ubyte', \n",
    "        labels_path='train-labels.idx1-ubyte')\n",
    "X_train, X_test, y_train, y_test = train_test_split(X, y, test_size=0.01)"
   ]
  },
  {
   "cell_type": "code",
   "execution_count": 29,
   "metadata": {},
   "outputs": [],
   "source": [
    "clf = KNeighborsClassifier(n_neighbors=2)\n",
    "my_clf = MyKNeighborsClassifier(n_neighbors=2)"
   ]
  },
  {
   "cell_type": "code",
   "execution_count": 30,
   "metadata": {},
   "outputs": [
    {
     "name": "stdout",
     "output_type": "stream",
     "text": [
      "Wall time: 13.6 s\n"
     ]
    },
    {
     "data": {
      "text/plain": [
       "KNeighborsClassifier(algorithm='auto', leaf_size=30, metric='minkowski',\n",
       "           metric_params=None, n_jobs=None, n_neighbors=2, p=2,\n",
       "           weights='uniform')"
      ]
     },
     "execution_count": 30,
     "metadata": {},
     "output_type": "execute_result"
    }
   ],
   "source": [
    "%time clf.fit(X_train, y_train)"
   ]
  },
  {
   "cell_type": "code",
   "execution_count": 31,
   "metadata": {},
   "outputs": [
    {
     "name": "stdout",
     "output_type": "stream",
     "text": [
      "Wall time: 179 ms\n"
     ]
    }
   ],
   "source": [
    "%time my_clf.fit(X_train, y_train)"
   ]
  },
  {
   "cell_type": "code",
   "execution_count": 32,
   "metadata": {},
   "outputs": [
    {
     "name": "stdout",
     "output_type": "stream",
     "text": [
      "Wall time: 37.3 s\n"
     ]
    },
    {
     "data": {
      "text/plain": [
       "array([6, 5, 9, 5, 5, 5, 5, 9, 6, 9, 4, 5, 3, 3, 6, 0, 8, 9, 8, 2, 3, 6,\n",
       "       5, 4, 3, 5, 4, 9, 0, 6, 9, 4, 2, 3, 7, 8, 0, 5, 0, 8, 0, 0, 6, 3,\n",
       "       2, 9, 1, 0, 4, 8, 0, 4, 0, 1, 6, 3, 5, 9, 7, 2, 2, 7, 2, 0, 9, 2,\n",
       "       6, 4, 9, 2, 4, 0, 6, 1, 7, 8, 1, 4, 8, 5, 7, 6, 8, 6, 5, 2, 7, 6,\n",
       "       3, 3, 9, 1, 2, 6, 0, 0, 3, 6, 3, 9, 7, 3, 7, 2, 3, 3, 4, 7, 2, 8,\n",
       "       8, 1, 9, 3, 1, 4, 7, 1, 9, 9, 3, 2, 1, 4, 4, 0, 1, 9, 6, 7, 3, 0,\n",
       "       9, 2, 3, 1, 3, 3, 8, 2, 0, 2, 7, 4, 6, 3, 4, 1, 1, 7, 5, 9, 4, 7,\n",
       "       1, 7, 8, 2, 7, 2, 3, 9, 9, 0, 7, 6, 2, 3, 3, 6, 4, 0, 3, 7, 0, 1,\n",
       "       7, 3, 6, 5, 6, 3, 4, 5, 7, 9, 0, 5, 5, 2, 2, 1, 1, 9, 6, 8, 8, 2,\n",
       "       6, 3, 4, 2, 4, 4, 3, 5, 8, 3, 3, 3, 8, 2, 6, 5, 8, 1, 8, 9, 2, 2,\n",
       "       1, 9, 8, 8, 0, 7, 6, 1, 0, 9, 6, 8, 0, 9, 3, 0, 0, 0, 9, 0, 0, 0,\n",
       "       2, 7, 6, 5, 7, 2, 6, 6, 3, 0, 2, 9, 8, 8, 0, 2, 6, 0, 0, 8, 1, 0,\n",
       "       0, 2, 2, 7, 3, 3, 2, 4, 3, 6, 0, 5, 9, 1, 2, 5, 0, 0, 7, 7, 2, 0,\n",
       "       1, 0, 4, 5, 3, 8, 1, 8, 6, 0, 1, 7, 6, 6, 2, 0, 0, 3, 8, 1, 9, 1,\n",
       "       9, 1, 8, 1, 3, 7, 7, 1, 1, 2, 7, 1, 6, 8, 1, 1, 4, 4, 6, 6, 7, 4,\n",
       "       3, 8, 2, 6, 6, 3, 9, 3, 0, 9, 5, 2, 6, 5, 6, 7, 1, 1, 8, 5, 5, 4,\n",
       "       8, 6, 1, 4, 5, 9, 0, 5, 5, 1, 5, 1, 0, 1, 3, 7, 1, 8, 9, 1, 5, 9,\n",
       "       0, 1, 3, 4, 0, 8, 6, 2, 7, 2, 5, 5, 2, 3, 2, 0, 7, 3, 9, 3, 1, 1,\n",
       "       6, 3, 1, 1, 6, 5, 4, 4, 0, 2, 7, 6, 2, 1, 2, 4, 4, 8, 9, 1, 9, 5,\n",
       "       1, 5, 5, 9, 5, 0, 8, 9, 2, 2, 4, 0, 6, 1, 5, 3, 9, 2, 2, 9, 0, 3,\n",
       "       4, 6, 5, 1, 2, 2, 7, 1, 0, 0, 1, 4, 6, 9, 4, 0, 5, 6, 1, 0, 7, 9,\n",
       "       3, 7, 5, 5, 1, 8, 1, 8, 3, 4, 3, 7, 7, 0, 7, 0, 7, 6, 9, 7, 3, 5,\n",
       "       0, 7, 5, 9, 3, 5, 9, 1, 4, 9, 2, 3, 6, 8, 3, 1, 6, 1, 7, 2, 1, 3,\n",
       "       2, 1, 9, 1, 1, 7, 1, 3, 4, 4, 1, 8, 3, 5, 8, 7, 6, 9, 9, 1, 1, 4,\n",
       "       3, 1, 4, 3, 2, 7, 9, 0, 4, 2, 8, 4, 5, 5, 9, 6, 7, 5, 4, 5, 0, 3,\n",
       "       4, 5, 6, 0, 2, 8, 4, 9, 9, 0, 0, 1, 8, 2, 4, 1, 7, 9, 6, 3, 5, 5,\n",
       "       8, 6, 3, 3, 8, 9, 3, 6, 4, 6, 7, 6, 1, 6, 0, 7, 5, 9, 9, 9, 2, 1,\n",
       "       9, 2, 1, 2, 0, 2], dtype=uint8)"
      ]
     },
     "execution_count": 32,
     "metadata": {},
     "output_type": "execute_result"
    }
   ],
   "source": [
    "%time clf.predict(X_test)"
   ]
  },
  {
   "cell_type": "code",
   "execution_count": 33,
   "metadata": {},
   "outputs": [
    {
     "name": "stdout",
     "output_type": "stream",
     "text": [
      "Wall time: 941 ms\n"
     ]
    },
    {
     "data": {
      "text/plain": [
       "array([6, 5, 9, 5, 5, 5, 5, 9, 6, 9, 4, 5, 3, 3, 6, 0, 8, 9, 8, 2, 3, 6,\n",
       "       5, 4, 3, 5, 4, 9, 0, 6, 9, 4, 2, 3, 7, 8, 0, 5, 0, 8, 0, 0, 6, 3,\n",
       "       2, 9, 1, 0, 4, 8, 0, 4, 0, 1, 6, 3, 5, 9, 7, 2, 2, 7, 2, 0, 9, 2,\n",
       "       6, 4, 9, 2, 4, 0, 6, 1, 7, 8, 1, 4, 8, 5, 7, 6, 8, 6, 5, 2, 7, 6,\n",
       "       3, 3, 9, 1, 2, 6, 0, 0, 3, 6, 3, 9, 7, 3, 7, 2, 3, 3, 4, 7, 2, 8,\n",
       "       8, 1, 9, 3, 1, 4, 7, 1, 9, 9, 3, 2, 1, 4, 4, 0, 1, 9, 6, 7, 3, 0,\n",
       "       9, 2, 3, 1, 3, 3, 8, 2, 0, 2, 7, 4, 6, 3, 4, 1, 1, 7, 5, 9, 4, 7,\n",
       "       1, 7, 8, 2, 7, 2, 3, 9, 9, 0, 7, 6, 2, 3, 3, 6, 4, 0, 3, 7, 0, 1,\n",
       "       7, 3, 6, 5, 6, 3, 4, 5, 7, 9, 0, 5, 5, 2, 2, 1, 1, 9, 6, 8, 8, 2,\n",
       "       6, 3, 4, 2, 4, 4, 3, 5, 8, 3, 3, 3, 8, 2, 6, 5, 8, 1, 8, 9, 2, 2,\n",
       "       1, 9, 8, 8, 0, 7, 6, 1, 0, 9, 6, 8, 0, 9, 3, 0, 0, 0, 9, 0, 0, 0,\n",
       "       2, 7, 6, 5, 7, 2, 6, 6, 3, 0, 2, 9, 8, 8, 0, 2, 6, 0, 0, 8, 1, 0,\n",
       "       0, 2, 2, 7, 3, 3, 2, 4, 3, 6, 0, 5, 9, 1, 2, 5, 0, 0, 7, 7, 2, 0,\n",
       "       1, 0, 4, 5, 3, 8, 1, 8, 6, 0, 1, 7, 6, 6, 2, 0, 0, 3, 8, 1, 9, 1,\n",
       "       9, 1, 8, 1, 3, 7, 7, 1, 1, 2, 7, 1, 6, 8, 1, 1, 4, 4, 6, 6, 7, 4,\n",
       "       3, 8, 2, 6, 6, 3, 9, 3, 0, 9, 5, 2, 6, 5, 6, 7, 1, 1, 8, 5, 5, 4,\n",
       "       8, 6, 1, 4, 5, 9, 0, 5, 5, 1, 5, 1, 0, 1, 3, 7, 1, 8, 9, 1, 5, 9,\n",
       "       0, 1, 3, 4, 0, 8, 6, 2, 7, 2, 5, 5, 2, 3, 2, 0, 7, 3, 9, 3, 1, 1,\n",
       "       6, 3, 1, 1, 6, 5, 4, 4, 0, 2, 7, 6, 2, 1, 2, 4, 4, 8, 9, 1, 9, 5,\n",
       "       1, 5, 5, 9, 5, 0, 8, 9, 2, 2, 4, 0, 6, 1, 5, 3, 9, 2, 2, 9, 0, 3,\n",
       "       4, 6, 5, 1, 2, 2, 7, 1, 0, 0, 1, 4, 6, 9, 4, 0, 5, 6, 1, 0, 7, 9,\n",
       "       3, 7, 5, 5, 1, 8, 1, 8, 3, 4, 3, 7, 7, 0, 7, 0, 7, 6, 9, 7, 3, 5,\n",
       "       0, 7, 5, 9, 3, 5, 9, 1, 4, 9, 2, 3, 6, 8, 3, 1, 6, 1, 7, 2, 1, 3,\n",
       "       2, 1, 9, 1, 1, 7, 1, 3, 4, 4, 1, 8, 3, 5, 8, 7, 6, 9, 9, 1, 1, 4,\n",
       "       3, 1, 4, 3, 2, 7, 9, 0, 4, 2, 8, 4, 5, 5, 9, 6, 7, 5, 4, 5, 0, 3,\n",
       "       4, 5, 6, 0, 2, 8, 4, 9, 9, 0, 0, 1, 8, 2, 4, 1, 7, 9, 6, 3, 5, 5,\n",
       "       8, 6, 3, 3, 8, 9, 3, 6, 4, 6, 7, 6, 1, 6, 0, 7, 5, 9, 9, 9, 2, 1,\n",
       "       9, 2, 1, 2, 0, 2], dtype=int64)"
      ]
     },
     "execution_count": 33,
     "metadata": {},
     "output_type": "execute_result"
    }
   ],
   "source": [
    "%time my_clf.predict(X_test)"
   ]
  },
  {
   "cell_type": "code",
   "execution_count": 34,
   "metadata": {},
   "outputs": [
    {
     "name": "stdout",
     "output_type": "stream",
     "text": [
      "Wall time: 37.7 s\n"
     ]
    },
    {
     "data": {
      "text/plain": [
       "array([[0., 0., 0., ..., 0., 0., 0.],\n",
       "       [0., 0., 0., ..., 0., 0., 0.],\n",
       "       [0., 0., 0., ..., 0., 0., 1.],\n",
       "       ...,\n",
       "       [0., 0., 1., ..., 0., 0., 0.],\n",
       "       [1., 0., 0., ..., 0., 0., 0.],\n",
       "       [0., 0., 1., ..., 0., 0., 0.]])"
      ]
     },
     "execution_count": 34,
     "metadata": {},
     "output_type": "execute_result"
    }
   ],
   "source": [
    "%time clf.predict_proba(X_test)"
   ]
  },
  {
   "cell_type": "code",
   "execution_count": 35,
   "metadata": {},
   "outputs": [
    {
     "name": "stdout",
     "output_type": "stream",
     "text": [
      "Wall time: 929 ms\n"
     ]
    },
    {
     "data": {
      "text/plain": [
       "array([[0., 0., 0., ..., 0., 0., 0.],\n",
       "       [0., 0., 0., ..., 0., 0., 0.],\n",
       "       [0., 0., 0., ..., 0., 0., 1.],\n",
       "       ...,\n",
       "       [0., 0., 1., ..., 0., 0., 0.],\n",
       "       [1., 0., 0., ..., 0., 0., 0.],\n",
       "       [0., 0., 1., ..., 0., 0., 0.]])"
      ]
     },
     "execution_count": 35,
     "metadata": {},
     "output_type": "execute_result"
    }
   ],
   "source": [
    "%time my_clf.predict_proba(X_test)"
   ]
  },
  {
   "cell_type": "code",
   "execution_count": 36,
   "metadata": {},
   "outputs": [
    {
     "data": {
      "text/plain": [
       "0.9633333333333334"
      ]
     },
     "execution_count": 36,
     "metadata": {},
     "output_type": "execute_result"
    }
   ],
   "source": [
    "clf.score(X_test, y_test)"
   ]
  },
  {
   "cell_type": "code",
   "execution_count": 37,
   "metadata": {},
   "outputs": [
    {
     "data": {
      "text/plain": [
       "0.9633333333333334"
      ]
     },
     "execution_count": 37,
     "metadata": {},
     "output_type": "execute_result"
    }
   ],
   "source": [
    "my_clf.score(X_test, y_test)"
   ]
  },
  {
   "cell_type": "markdown",
   "metadata": {},
   "source": [
    "Задание 4"
   ]
  },
  {
   "cell_type": "code",
   "execution_count": 51,
   "metadata": {},
   "outputs": [],
   "source": [
    "clf = KNeighborsClassifier(n_neighbors=19, algorithm='kd_tree')\n",
    "my_clf = MyKNeighborsClassifier(n_neighbors=19, algorithm='kd_tree')"
   ]
  },
  {
   "cell_type": "code",
   "execution_count": 39,
   "metadata": {},
   "outputs": [],
   "source": [
    "X_train, X_test, y_train, y_test = train_test_split(X, y, test_size=0.01)"
   ]
  },
  {
   "cell_type": "code",
   "execution_count": 40,
   "metadata": {},
   "outputs": [
    {
     "name": "stdout",
     "output_type": "stream",
     "text": [
      "Wall time: 13.4 s\n"
     ]
    },
    {
     "data": {
      "text/plain": [
       "KNeighborsClassifier(algorithm='kd_tree', leaf_size=30, metric='minkowski',\n",
       "           metric_params=None, n_jobs=None, n_neighbors=19, p=2,\n",
       "           weights='uniform')"
      ]
     },
     "execution_count": 40,
     "metadata": {},
     "output_type": "execute_result"
    }
   ],
   "source": [
    "%time clf.fit(X_train, y_train)"
   ]
  },
  {
   "cell_type": "code",
   "execution_count": 52,
   "metadata": {},
   "outputs": [
    {
     "name": "stdout",
     "output_type": "stream",
     "text": [
      "Wall time: 13.8 s\n"
     ]
    }
   ],
   "source": [
    "%time my_clf.fit(X_train, y_train)"
   ]
  },
  {
   "cell_type": "code",
   "execution_count": 42,
   "metadata": {},
   "outputs": [
    {
     "name": "stdout",
     "output_type": "stream",
     "text": [
      "Wall time: 36.7 s\n"
     ]
    },
    {
     "data": {
      "text/plain": [
       "array([0, 8, 6, 0, 7, 1, 6, 7, 8, 2, 4, 3, 2, 6, 0, 1, 9, 2, 2, 5, 4, 8,\n",
       "       4, 9, 9, 0, 6, 7, 2, 2, 7, 0, 3, 5, 6, 1, 8, 6, 2, 2, 3, 8, 4, 3,\n",
       "       2, 1, 4, 2, 7, 1, 4, 5, 5, 2, 8, 0, 8, 7, 9, 2, 1, 3, 9, 1, 3, 8,\n",
       "       6, 8, 0, 6, 7, 1, 2, 8, 7, 8, 3, 4, 2, 3, 1, 8, 8, 1, 4, 6, 3, 9,\n",
       "       9, 9, 7, 1, 8, 4, 6, 8, 9, 0, 4, 1, 1, 7, 9, 2, 2, 7, 5, 1, 0, 9,\n",
       "       5, 5, 6, 1, 4, 4, 6, 6, 8, 5, 1, 3, 4, 1, 4, 3, 3, 3, 5, 3, 0, 0,\n",
       "       2, 8, 1, 8, 5, 8, 6, 1, 7, 1, 6, 8, 4, 6, 1, 5, 1, 7, 9, 7, 6, 2,\n",
       "       6, 5, 8, 1, 3, 2, 5, 3, 4, 6, 8, 3, 2, 8, 1, 6, 9, 6, 6, 3, 6, 9,\n",
       "       9, 2, 1, 0, 1, 0, 7, 1, 3, 6, 0, 2, 7, 2, 0, 9, 7, 5, 0, 6, 1, 6,\n",
       "       7, 3, 4, 1, 9, 1, 6, 0, 6, 0, 0, 5, 9, 6, 1, 2, 9, 0, 4, 0, 1, 1,\n",
       "       1, 6, 3, 5, 7, 4, 5, 9, 7, 9, 3, 1, 0, 1, 9, 2, 0, 0, 8, 1, 5, 8,\n",
       "       9, 2, 5, 8, 0, 6, 6, 3, 7, 1, 7, 3, 9, 6, 2, 4, 4, 4, 3, 0, 0, 3,\n",
       "       1, 1, 3, 3, 1, 7, 0, 7, 6, 2, 7, 8, 3, 9, 7, 8, 0, 5, 2, 0, 1, 6,\n",
       "       9, 2, 7, 2, 8, 7, 2, 7, 6, 0, 3, 9, 6, 8, 7, 9, 6, 6, 1, 5, 4, 9,\n",
       "       3, 4, 0, 7, 2, 9, 3, 4, 2, 2, 0, 8, 8, 2, 3, 7, 1, 6, 3, 3, 2, 0,\n",
       "       0, 2, 4, 7, 5, 3, 3, 7, 7, 9, 1, 4, 4, 2, 6, 2, 2, 3, 3, 5, 1, 3,\n",
       "       9, 1, 3, 3, 7, 0, 3, 6, 7, 3, 0, 1, 8, 1, 2, 4, 1, 2, 1, 0, 4, 1,\n",
       "       1, 1, 3, 7, 6, 4, 3, 6, 1, 2, 9, 1, 3, 4, 7, 6, 8, 8, 3, 0, 5, 6,\n",
       "       2, 9, 7, 1, 4, 5, 2, 9, 0, 7, 9, 3, 8, 1, 0, 9, 4, 6, 3, 0, 3, 5,\n",
       "       4, 5, 1, 5, 8, 0, 3, 5, 2, 2, 6, 0, 7, 3, 6, 8, 4, 7, 8, 9, 6, 6,\n",
       "       9, 6, 8, 2, 8, 7, 4, 0, 6, 7, 4, 5, 3, 3, 1, 5, 6, 5, 4, 5, 7, 6,\n",
       "       6, 8, 0, 8, 9, 4, 1, 1, 3, 7, 5, 1, 0, 5, 3, 4, 5, 9, 8, 6, 1, 4,\n",
       "       5, 1, 2, 7, 4, 7, 5, 5, 5, 3, 9, 9, 9, 2, 3, 9, 5, 0, 2, 3, 0, 4,\n",
       "       3, 7, 9, 4, 2, 7, 5, 5, 6, 9, 3, 4, 7, 6, 6, 4, 1, 4, 0, 3, 1, 0,\n",
       "       0, 1, 7, 0, 5, 5, 9, 2, 0, 6, 4, 9, 4, 7, 6, 3, 4, 2, 2, 9, 0, 9,\n",
       "       4, 5, 4, 5, 6, 1, 7, 8, 9, 2, 7, 5, 8, 5, 2, 6, 1, 8, 4, 7, 2, 9,\n",
       "       7, 1, 4, 2, 8, 7, 8, 5, 4, 5, 7, 6, 5, 2, 0, 8, 0, 1, 8, 7, 2, 9,\n",
       "       2, 5, 7, 5, 6, 7], dtype=uint8)"
      ]
     },
     "execution_count": 42,
     "metadata": {},
     "output_type": "execute_result"
    }
   ],
   "source": [
    "%time clf.predict(X_test)"
   ]
  },
  {
   "cell_type": "code",
   "execution_count": 53,
   "metadata": {},
   "outputs": [
    {
     "name": "stdout",
     "output_type": "stream",
     "text": [
      "Wall time: 37.9 s\n"
     ]
    },
    {
     "data": {
      "text/plain": [
       "array([0, 8, 6, 0, 7, 1, 6, 7, 8, 2, 4, 3, 2, 6, 0, 1, 9, 2, 2, 5, 4, 8,\n",
       "       4, 9, 9, 0, 6, 7, 2, 2, 7, 0, 3, 5, 6, 1, 8, 6, 2, 2, 3, 8, 4, 3,\n",
       "       2, 1, 4, 2, 7, 1, 4, 5, 5, 2, 8, 0, 8, 7, 9, 2, 1, 3, 9, 1, 3, 8,\n",
       "       6, 8, 0, 6, 7, 1, 2, 8, 7, 8, 3, 4, 2, 3, 1, 8, 8, 1, 4, 6, 3, 9,\n",
       "       9, 9, 7, 1, 8, 4, 6, 8, 9, 0, 4, 1, 1, 7, 9, 2, 2, 7, 5, 1, 0, 9,\n",
       "       5, 5, 6, 1, 4, 4, 6, 6, 8, 5, 1, 3, 4, 1, 4, 3, 3, 3, 5, 3, 0, 0,\n",
       "       2, 8, 1, 8, 5, 8, 6, 1, 7, 1, 6, 8, 4, 6, 1, 5, 1, 7, 9, 7, 6, 2,\n",
       "       6, 5, 8, 1, 3, 2, 5, 3, 4, 6, 8, 3, 2, 8, 1, 6, 9, 6, 6, 3, 6, 9,\n",
       "       9, 2, 1, 0, 1, 0, 7, 1, 3, 6, 0, 2, 7, 2, 0, 9, 7, 5, 0, 6, 1, 6,\n",
       "       7, 3, 4, 1, 9, 1, 6, 0, 6, 0, 0, 5, 9, 6, 1, 2, 9, 0, 4, 0, 1, 1,\n",
       "       1, 6, 3, 5, 7, 4, 5, 9, 7, 9, 3, 1, 0, 1, 9, 2, 0, 0, 8, 1, 5, 8,\n",
       "       9, 2, 5, 8, 0, 6, 6, 3, 7, 1, 7, 3, 9, 6, 2, 4, 4, 4, 3, 0, 0, 3,\n",
       "       1, 1, 3, 3, 1, 7, 0, 7, 6, 2, 7, 8, 3, 9, 7, 8, 0, 5, 2, 0, 1, 6,\n",
       "       9, 2, 7, 2, 8, 7, 2, 7, 6, 0, 3, 9, 6, 8, 7, 9, 6, 6, 1, 5, 4, 9,\n",
       "       3, 4, 0, 7, 2, 9, 3, 4, 2, 2, 0, 8, 8, 2, 3, 7, 1, 6, 3, 3, 2, 0,\n",
       "       0, 2, 4, 7, 5, 3, 3, 7, 7, 9, 1, 4, 4, 2, 6, 2, 2, 3, 3, 5, 1, 3,\n",
       "       9, 1, 3, 3, 7, 0, 3, 6, 7, 3, 0, 1, 8, 1, 2, 4, 1, 2, 1, 0, 4, 1,\n",
       "       1, 1, 3, 7, 6, 4, 3, 6, 1, 2, 9, 1, 3, 4, 7, 6, 8, 8, 3, 0, 5, 6,\n",
       "       2, 9, 7, 1, 4, 5, 2, 9, 0, 7, 9, 3, 8, 1, 0, 9, 4, 6, 3, 0, 3, 5,\n",
       "       4, 5, 1, 5, 8, 0, 3, 5, 2, 2, 6, 0, 7, 3, 6, 8, 4, 7, 8, 9, 6, 6,\n",
       "       9, 6, 8, 2, 8, 7, 4, 0, 6, 7, 4, 5, 3, 3, 1, 5, 6, 5, 4, 5, 7, 6,\n",
       "       6, 8, 0, 8, 9, 4, 1, 1, 3, 7, 5, 1, 0, 5, 3, 4, 5, 9, 8, 6, 1, 4,\n",
       "       5, 1, 2, 7, 4, 7, 5, 5, 5, 3, 9, 9, 9, 2, 3, 9, 5, 0, 2, 3, 0, 4,\n",
       "       3, 7, 9, 4, 2, 7, 5, 5, 6, 9, 3, 4, 7, 6, 6, 4, 1, 4, 0, 3, 1, 0,\n",
       "       0, 1, 7, 0, 5, 5, 9, 2, 0, 6, 4, 9, 4, 7, 6, 3, 4, 2, 2, 9, 0, 9,\n",
       "       4, 5, 4, 5, 6, 1, 7, 8, 9, 2, 7, 5, 8, 5, 2, 6, 1, 8, 4, 7, 2, 9,\n",
       "       7, 1, 4, 2, 8, 7, 8, 5, 4, 5, 7, 6, 5, 2, 0, 8, 0, 1, 8, 7, 2, 9,\n",
       "       2, 5, 7, 5, 6, 7], dtype=int64)"
      ]
     },
     "execution_count": 53,
     "metadata": {},
     "output_type": "execute_result"
    }
   ],
   "source": [
    "%time my_clf.predict(X_test)"
   ]
  },
  {
   "cell_type": "code",
   "execution_count": 44,
   "metadata": {},
   "outputs": [
    {
     "name": "stdout",
     "output_type": "stream",
     "text": [
      "Wall time: 37.2 s\n"
     ]
    },
    {
     "data": {
      "text/plain": [
       "array([[1., 0., 0., ..., 0., 0., 0.],\n",
       "       [0., 0., 0., ..., 0., 1., 0.],\n",
       "       [0., 0., 0., ..., 0., 0., 0.],\n",
       "       ...,\n",
       "       [0., 0., 0., ..., 0., 0., 0.],\n",
       "       [0., 0., 0., ..., 0., 0., 0.],\n",
       "       [0., 0., 0., ..., 1., 0., 0.]])"
      ]
     },
     "execution_count": 44,
     "metadata": {},
     "output_type": "execute_result"
    }
   ],
   "source": [
    "%time clf.predict_proba(X_test)"
   ]
  },
  {
   "cell_type": "code",
   "execution_count": 55,
   "metadata": {},
   "outputs": [
    {
     "name": "stdout",
     "output_type": "stream",
     "text": [
      "Wall time: 37.7 s\n"
     ]
    },
    {
     "data": {
      "text/plain": [
       "array([[1., 0., 0., ..., 0., 0., 0.],\n",
       "       [0., 0., 0., ..., 0., 1., 0.],\n",
       "       [0., 0., 0., ..., 0., 0., 0.],\n",
       "       ...,\n",
       "       [0., 0., 0., ..., 0., 0., 0.],\n",
       "       [0., 0., 0., ..., 0., 0., 0.],\n",
       "       [0., 0., 0., ..., 1., 0., 0.]])"
      ]
     },
     "execution_count": 55,
     "metadata": {},
     "output_type": "execute_result"
    }
   ],
   "source": [
    "%time my_clf.predict_proba(X_test)"
   ]
  },
  {
   "cell_type": "code",
   "execution_count": 46,
   "metadata": {},
   "outputs": [
    {
     "data": {
      "text/plain": [
       "0.9716666666666667"
      ]
     },
     "execution_count": 46,
     "metadata": {},
     "output_type": "execute_result"
    }
   ],
   "source": [
    "clf.score(X_test, y_test)"
   ]
  },
  {
   "cell_type": "code",
   "execution_count": 56,
   "metadata": {},
   "outputs": [
    {
     "data": {
      "text/plain": [
       "0.9716666666666667"
      ]
     },
     "execution_count": 56,
     "metadata": {},
     "output_type": "execute_result"
    }
   ],
   "source": [
    "my_clf.score(X_test, y_test)"
   ]
  },
  {
   "cell_type": "markdown",
   "metadata": {},
   "source": [
    "Задание 5"
   ]
  },
  {
   "cell_type": "code",
   "execution_count": null,
   "metadata": {},
   "outputs": [],
   "source": [
    "# seaborn - библиотека визуализации данных Python, основанная на matplotlib. Красивые графики и диаграммы.\n",
    "# matplotlib - это бибилиотека двумерной графики для языка программирования python с \n",
    "#               помощью которой можно создавать высококачественные рисунки различных форматов\n",
    "# train_test_split - разбивает на случайные трейновые и тестовые массивы. \n",
    "#            с помощью трейновых обучаем машину, а при помощи тестовых проверяем насколько хорошо она обучилась\n",
    "# Pipeline%load_ext e (from sklearn.pipeline import Pipeline) -цепочка\n",
    "#                         преобразований с окончательной оценкой,\n",
    "#                         на вход одной функции подаётся\n",
    "#                         выход другой функции.\n",
    "# StandardScaler (from sklearn.preprocessing import StandardScaler) - Нормализация на стандартное отклонение. После него\n",
    "#                                                                     среднее значение 0, стандартное отклонеие <=1.\n",
    "# ClassifierMixin - базовый класс для всех классификаторов в sklearn\n",
    "# NeighborsBase - Базовый класс для оценок ближайших соседей.\n",
    "# KNeighborsMixin -базовый класс, для всех классов KNN, содержащих методы\n",
    "#                   поиска ближайших соседей.\n",
    "# SupervisedIntegerMixin- базовый класс с методом fit"
   ]
  }
 ],
 "metadata": {
  "kernelspec": {
   "display_name": "Python 3",
   "language": "python",
   "name": "python3"
  },
  "language_info": {
   "codemirror_mode": {
    "name": "ipython",
    "version": 3
   },
   "file_extension": ".py",
   "mimetype": "text/x-python",
   "name": "python",
   "nbconvert_exporter": "python",
   "pygments_lexer": "ipython3",
   "version": "3.7.1"
  }
 },
 "nbformat": 4,
 "nbformat_minor": 2
}
